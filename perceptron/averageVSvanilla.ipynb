{
 "cells": [
  {
   "cell_type": "code",
   "execution_count": 1,
   "id": "4d0ec879",
   "metadata": {},
   "outputs": [],
   "source": [
    "import pandas as pd\n",
    "import numpy as np\n",
    "from matplotlib import pyplot as plt"
   ]
  },
  {
   "cell_type": "code",
   "execution_count": 2,
   "id": "909209bc",
   "metadata": {
    "scrolled": true
   },
   "outputs": [],
   "source": [
    "def data_read(path):\n",
    "    \n",
    "    df = pd.read_csv(path)\n",
    "    df.dropna(inplace=True)\n",
    "    df.set_index('LABELS', inplace=True)\n",
    "    df.index.unique()\n",
    "    unwanted = ['BRICKFACE', 'FOLIAGE', 'SKY', 'WINDOW', 'PATH']\n",
    "    df.drop(unwanted, inplace=True)\n",
    "    \n",
    "    labels_dict = {'CEMENT'  : 1,\n",
    "                   'GRASS': -1}\n",
    "    \n",
    "    Y = np.array(df.index.map(labels_dict))\n",
    "    X = np.array(df.reset_index().drop('LABELS',axis = 1))\n",
    "    \n",
    "    return X,Y"
   ]
  },
  {
   "cell_type": "code",
   "execution_count": 3,
   "id": "690b3037",
   "metadata": {},
   "outputs": [],
   "source": [
    "def activation(x,weights,bias):\n",
    "    return np.dot(x,weights) + bias"
   ]
  },
  {
   "cell_type": "code",
   "execution_count": 4,
   "id": "4fb213b4",
   "metadata": {},
   "outputs": [],
   "source": [
    "def model_fit_average(X_train,y_train,epochs):\n",
    "    shuffler = np.random.permutation(len(y_train))\n",
    "    X_train = X_train[shuffler]\n",
    "    y_train = y_train[shuffler]\n",
    "    datapoints_len, weights_len = X_train.shape\n",
    "    weights = np.zeros(weights_len)\n",
    "    bias = 0\n",
    "    \n",
    "    weightsEpoch = np.zeros((epochs,weights_len))\n",
    "    biasEpoch = np.zeros(epochs)\n",
    "    \n",
    "    averagedWeight = weights\n",
    "    averagedBias = bias\n",
    "    \n",
    "    for epoch in range(epochs):\n",
    "        for feature in range(datapoints_len):\n",
    "            x = X_train[feature]\n",
    "            y = y_train[feature]\n",
    "            a = activation(x, weights, bias)\n",
    "\n",
    "            if y*a<=0:\n",
    "                weights = weights + y*x\n",
    "                bias += y\n",
    "            \n",
    "            iteration = (epoch+1)*(feature+1)\n",
    "            averagedWeight = averagedWeight*((iteration-1)/iteration) + (weights/iteration)\n",
    "            averagedBias = averagedBias*((iteration-1)/iteration) + (bias/iteration)\n",
    "\n",
    "        \n",
    "        weightsEpoch[epoch] = averagedWeight\n",
    "        biasEpoch[epoch] = averagedBias\n",
    "                \n",
    "    return averagedWeight, averagedBias, weightsEpoch, biasEpoch"
   ]
  },
  {
   "cell_type": "code",
   "execution_count": 5,
   "id": "cd4543e3",
   "metadata": {},
   "outputs": [],
   "source": [
    "def accuracy(X, Y, weights, bias):\n",
    "    y_predicted = list(map(lambda i: np.sign(activation(i,weights,bias)),X))\n",
    "    accuracy = np.sum(y_predicted*Y)/len(y_predicted*Y)\n",
    "    return accuracy\n"
   ]
  },
  {
   "cell_type": "code",
   "execution_count": 6,
   "id": "08b8fd78",
   "metadata": {},
   "outputs": [],
   "source": [
    "X_train,y_train = data_read(\"segmentation-train.csv\")\n",
    "epochs = 40\n",
    "weights, bias, weightsEpoch, biasEpoch = model_fit_average(X_train,y_train,epochs)"
   ]
  },
  {
   "cell_type": "code",
   "execution_count": 7,
   "id": "9f0f1390",
   "metadata": {},
   "outputs": [
    {
     "data": {
      "text/plain": [
       "1.0"
      ]
     },
     "execution_count": 7,
     "metadata": {},
     "output_type": "execute_result"
    }
   ],
   "source": [
    "train_accuracy = accuracy(X_train, y_train, weights, bias)\n",
    "train_accuracy"
   ]
  },
  {
   "cell_type": "code",
   "execution_count": 8,
   "id": "150720c5",
   "metadata": {},
   "outputs": [
    {
     "data": {
      "text/plain": [
       "0.9733333333333334"
      ]
     },
     "execution_count": 8,
     "metadata": {},
     "output_type": "execute_result"
    }
   ],
   "source": [
    "X_test,y_test = data_read(\"segmentation-test.csv\")\n",
    "test_accuracy = accuracy(X_test, y_test, weights, bias)\n",
    "test_accuracy"
   ]
  },
  {
   "cell_type": "code",
   "execution_count": 9,
   "id": "fed2428f",
   "metadata": {},
   "outputs": [],
   "source": [
    "accuracyEpochWiseAveraged = [accuracy(X_test, y_test, weightsEpoch[i], biasEpoch[i]) for i in range(epochs)]"
   ]
  },
  {
   "cell_type": "code",
   "execution_count": 10,
   "id": "15feaf3e",
   "metadata": {},
   "outputs": [
    {
     "data": {
      "text/plain": [
       "<matplotlib.legend.Legend at 0x7f82c170e670>"
      ]
     },
     "execution_count": 10,
     "metadata": {},
     "output_type": "execute_result"
    },
    {
     "data": {
      "image/png": "[encoded data removed]",
      "text/plain": [
       "<Figure size 432x288 with 1 Axes>"
      ]
     },
     "metadata": {
      "needs_background": "light"
     },
     "output_type": "display_data"
    }
   ],
   "source": [
    "plt.plot(np.arange(1,epochs+1),accuracyEpochWiseAveraged,'-b', label='averaged')\n",
    "plt.xlabel(\"epochs\")\n",
    "plt.ylabel(\"accuracy\")\n",
    "plt.legend()"
   ]
  },
  {
   "cell_type": "code",
   "execution_count": 11,
   "id": "425bd5dd",
   "metadata": {},
   "outputs": [],
   "source": [
    "def model_fit(X_train,y_train,epochs):\n",
    "    shuffler = np.random.permutation(len(y_train))\n",
    "    X_train = X_train[shuffler]\n",
    "    y_train = y_train[shuffler]\n",
    "    datapoints_len, weights_len = X_train.shape\n",
    "    weights = np.zeros(weights_len)\n",
    "    bias = 0\n",
    "    \n",
    "    weightsEpoch = np.zeros((epochs,weights_len))\n",
    "    biasEpoch = np.zeros(epochs)\n",
    "    \n",
    "    for epoch in range(epochs):\n",
    "        for feature in range(datapoints_len):\n",
    "            x = X_train[feature]\n",
    "            y = y_train[feature]\n",
    "            a = activation(x, weights, bias)\n",
    "\n",
    "            if y*a<=0:\n",
    "                weights = weights + y*x\n",
    "                bias += y\n",
    "        \n",
    "        weightsEpoch[epoch] = weights\n",
    "        biasEpoch[epoch] = bias\n",
    "                \n",
    "    return weights, bias, weightsEpoch, biasEpoch"
   ]
  },
  {
   "cell_type": "code",
   "execution_count": 12,
   "id": "e2bfa05f",
   "metadata": {},
   "outputs": [],
   "source": [
    "X_train,y_train = data_read(\"segmentation-train.csv\")\n",
    "epochs = 40\n",
    "weights, bias, weightsEpoch, biasEpoch = model_fit(X_train,y_train,epochs)"
   ]
  },
  {
   "cell_type": "code",
   "execution_count": 13,
   "id": "03c86f1c",
   "metadata": {},
   "outputs": [
    {
     "data": {
      "text/plain": [
       "0.97"
      ]
     },
     "execution_count": 13,
     "metadata": {},
     "output_type": "execute_result"
    }
   ],
   "source": [
    "X_test,y_test = data_read(\"segmentation-test.csv\")\n",
    "test_accuracy = accuracy(X_test, y_test, weights, bias)\n",
    "test_accuracy"
   ]
  },
  {
   "cell_type": "code",
   "execution_count": 14,
   "id": "d5fa7416",
   "metadata": {},
   "outputs": [],
   "source": [
    "accuracyEpochWise = [accuracy(X_test, y_test, weightsEpoch[i], biasEpoch[i]) for i in range(epochs)]"
   ]
  },
  {
   "cell_type": "code",
   "execution_count": 15,
   "id": "bf8e0895",
   "metadata": {},
   "outputs": [
    {
     "data": {
      "text/plain": [
       "<matplotlib.legend.Legend at 0x7f82b966b280>"
      ]
     },
     "execution_count": 15,
     "metadata": {},
     "output_type": "execute_result"
    },
    {
     "data": {
      "image/png": "[encoded data removed]",
      "text/plain": [
       "<Figure size 432x288 with 1 Axes>"
      ]
     },
     "metadata": {
      "needs_background": "light"
     },
     "output_type": "display_data"
    }
   ],
   "source": [
    "plt.plot(np.arange(1,epochs+1),accuracyEpochWise,'-r', label='vanilla')\n",
    "plt.xlabel(\"epochs\")\n",
    "plt.ylabel(\"accuracy\")\n",
    "plt.legend()"
   ]
  },
  {
   "cell_type": "code",
   "execution_count": 16,
   "id": "1593c794",
   "metadata": {},
   "outputs": [
    {
     "data": {
      "text/plain": [
       "<matplotlib.legend.Legend at 0x7f82b9508e50>"
      ]
     },
     "execution_count": 16,
     "metadata": {},
     "output_type": "execute_result"
    },
    {
     "data": {
      "image/png": "[encoded data removed]",
      "text/plain": [
       "<Figure size 432x288 with 1 Axes>"
      ]
     },
     "metadata": {
      "needs_background": "light"
     },
     "output_type": "display_data"
    }
   ],
   "source": [
    "plt.plot(np.arange(1,epochs+1),accuracyEpochWiseAveraged,'-b', label='averaged')\n",
    "plt.plot(np.arange(1,epochs+1),accuracyEpochWise,'-r', label='vanilla')\n",
    "plt.xlabel(\"epochs\")\n",
    "plt.ylabel(\"accuracy\")\n",
    "plt.legend()"
   ]
  },
  {
   "cell_type": "code",
   "execution_count": null,
   "id": "f3195bf6",
   "metadata": {},
   "outputs": [],
   "source": []
  }
 ],
 "metadata": {
  "kernelspec": {
   "display_name": "Python 3 (ipykernel)",
   "language": "python",
   "name": "python3"
  },
  "language_info": {
   "codemirror_mode": {
    "name": "ipython",
    "version": 3
   },
   "file_extension": ".py",
   "mimetype": "text/x-python",
   "name": "python",
   "nbconvert_exporter": "python",
   "pygments_lexer": "ipython3",
   "version": "3.9.6"
  }
 },
 "nbformat": 4,
 "nbformat_minor": 5
}
