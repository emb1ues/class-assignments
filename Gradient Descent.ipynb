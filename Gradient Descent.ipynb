{
 "cells": [
  {
   "cell_type": "code",
   "execution_count": 263,
   "id": "2235b115",
   "metadata": {},
   "outputs": [],
   "source": [
    "import numpy as np\n",
    "from matplotlib import pyplot as plt\n",
    "from sklearn.linear_model import LinearRegression"
   ]
  },
  {
   "cell_type": "code",
   "execution_count": 264,
   "id": "41292d08",
   "metadata": {},
   "outputs": [],
   "source": [
    "#takes a random dataset and filters linearly correlated points\n",
    "def dataFilterLinear(dataSet, m, width):\n",
    "    indexes = []\n",
    "    for i in range(len(dataSet)):\n",
    "        c = width\n",
    "        y = dataSet[i,1]\n",
    "        x = dataSet[i,0]\n",
    "        c += np.random.randint(-c/4, c/4)\n",
    "        if(y <= ((m*x)-c) or y >=  ((m*x)+c)):\n",
    "            indexes.append(i)\n",
    "    return np.delete(dataSet, indexes, 0)"
   ]
  },
  {
   "cell_type": "code",
   "execution_count": 265,
   "id": "8cd0967d",
   "metadata": {},
   "outputs": [],
   "source": [
    "#plots a dataSet and a line\n",
    "def fitPlotter(dataSet, m, c, style, name):\n",
    "    x = np.linspace(min(dataSet[:,0]),max(dataSet[:,0]),100)\n",
    "    y = m*x+c\n",
    "    plt.plot(x,y, style, label=name)\n",
    "    plt.plot(dataSet[:,0],dataSet[:,1], '.g')\n",
    "    plt.legend(loc=4)\n",
    "    plt.show()"
   ]
  },
  {
   "cell_type": "code",
   "execution_count": 266,
   "id": "8b63b75a",
   "metadata": {},
   "outputs": [],
   "source": [
    "#the (euclidean) distance between two vectors\n",
    "def distance(a,b):\n",
    "    return np.linalg.norm(np.subtract(a,b))"
   ]
  },
  {
   "cell_type": "code",
   "execution_count": 275,
   "id": "c6087922",
   "metadata": {},
   "outputs": [],
   "source": [
    "#batch gradient descent\n",
    "def batchGradientDescent(dataSet, model, learningRate):\n",
    "    gradwm = 0\n",
    "    gradwc = 0\n",
    "    \n",
    "    m = model[0]\n",
    "    c = model[1]\n",
    "    N = len(dataSet)\n",
    "    \n",
    "    for point in dataSet:\n",
    "        x = point[0]\n",
    "        y = point[1]\n",
    "        \n",
    "        gradwm += (2/N)*x*(m*x + c - y)\n",
    "        gradwc += (2/N)*(m*x + c - y)\n",
    "    \n",
    "    grad = [gradwm, gradwc]\n",
    "    updatedModel = np.subtract(model, np.multiply(learningRate,grad))\n",
    "    if distance(model, updatedModel)< 0.01:     \n",
    "        return updatedModel\n",
    "    else:\n",
    "        return batchGradientDescent(dataSet, updatedModel, learningRate)"
   ]
  },
  {
   "cell_type": "code",
   "execution_count": 268,
   "id": "458eb098",
   "metadata": {},
   "outputs": [],
   "source": [
    "#mini batch gradient descent\n",
    "def miniBatchGradientDescent(dataSet, batchSize, model, learningRate):\n",
    "    #break dataSet into parts\n",
    "    if batchSize > len(dataSet):\n",
    "        miniBatch = [0]*batchSize\n",
    "        for i in range(batchSize):\n",
    "            if dataSet != []:\n",
    "                miniBatch[i] = dataSet[i]\n",
    "        np.delete(dataSet,[i for i in range(batchSize)],0)\n",
    "    else:\n",
    "        miniBatch = dataSet\n",
    "            \n",
    "    if distance(model, miniBatchGradientDescentHelper(miniBatch, model, learningRate))<0.01:\n",
    "        return model\n",
    "    else:\n",
    "        return miniBatchGradientDescent(dataSet, batchSize, model, learningRate)\n",
    "\n",
    "#a helper function for miniBatchGradientDescent\n",
    "def miniBatchGradientDescentHelper(dataSet, model, learningRate):\n",
    "    gradwm = 0\n",
    "    gradwc = 0\n",
    "    \n",
    "    m = model[0]\n",
    "    c = model[1]\n",
    "    N = len(dataSet)\n",
    "    \n",
    "    for point in dataSet:\n",
    "        x = point[0]\n",
    "        y = point[1]\n",
    "        \n",
    "        gradwm += (2/N)*x*(m*x + c - y)\n",
    "        gradwc += (2/N)*(m*x + c - y)\n",
    "    \n",
    "    grad = [gradwm, gradwc]\n",
    "    updatedModel = np.subtract(model, np.multiply(learningRate,grad))\n",
    "    \n",
    "    return updatedModel\n",
    "    "
   ]
  },
  {
   "cell_type": "code",
   "execution_count": 269,
   "id": "e2b37184",
   "metadata": {},
   "outputs": [],
   "source": [
    "#Stochastic Gradient Descent\n",
    "def stochasticGradientDescent(dataSet, model, learningRate):\n",
    "    return miniBatchGradientDescent(dataSet, 1, model, learningRate)"
   ]
  },
  {
   "cell_type": "code",
   "execution_count": 270,
   "id": "6dcc0384",
   "metadata": {
    "scrolled": true
   },
   "outputs": [
    {
     "data": {
      "image/png": "[encoded data removed]",
      "text/plain": [
       "<Figure size 432x288 with 1 Axes>"
      ]
     },
     "metadata": {
      "needs_background": "light"
     },
     "output_type": "display_data"
    }
   ],
   "source": [
    "#Creating a linearly correlated data set\n",
    "#Plotted it with it's Linear Regression fit\n",
    "dataSet = np.random.randint(0,2000, size = [1000,2])\n",
    "dataSet = dataFilterLinear(dataSet,2,400)\n",
    "reg = LinearRegression().fit(dataSet[:,0].reshape(-1,1),dataSet[:,1])\n",
    "fitPlotter(dataSet, reg.coef_[0], reg.intercept_, '-r', 'Linear Regression')"
   ]
  },
  {
   "cell_type": "code",
   "execution_count": 271,
   "id": "1236821d",
   "metadata": {
    "scrolled": true
   },
   "outputs": [
    {
     "data": {
      "image/png": "[encoded data removed]",
      "text/plain": [
       "<Figure size 432x288 with 1 Axes>"
      ]
     },
     "metadata": {
      "needs_background": "light"
     },
     "output_type": "display_data"
    }
   ],
   "source": [
    "#Batch Gradient Descent\n",
    "#no point plotting LR and BGD together since they overlap\n",
    "batchGDModel = batchGradientDescent(dataSet, [1,100], 0.000001)\n",
    "fitPlotter(dataSet, batchGDModel[0], batchGDModel[1], '-b', 'Batch Gradient Descent')"
   ]
  },
  {
   "cell_type": "code",
   "execution_count": 272,
   "id": "436f0111",
   "metadata": {},
   "outputs": [
    {
     "ename": "RecursionError",
     "evalue": "maximum recursion depth exceeded while calling a Python object",
     "output_type": "error",
     "traceback": [
      "\u001b[0;31m---------------------------------------------------------------------------\u001b[0m",
      "\u001b[0;31mRecursionError\u001b[0m                            Traceback (most recent call last)",
      "\u001b[0;32m/tmp/ipykernel_15826/601184699.py\u001b[0m in \u001b[0;36m<module>\u001b[0;34m\u001b[0m\n\u001b[1;32m      1\u001b[0m \u001b[0;31m#even for very small learning rates, mini batch gradient descent is not converging :(\u001b[0m\u001b[0;34m\u001b[0m\u001b[0;34m\u001b[0m\u001b[0;34m\u001b[0m\u001b[0m\n\u001b[0;32m----> 2\u001b[0;31m \u001b[0mminiBatchGradientDescent\u001b[0m\u001b[0;34m(\u001b[0m\u001b[0mdataSet\u001b[0m\u001b[0;34m,\u001b[0m\u001b[0;36m20\u001b[0m\u001b[0;34m,\u001b[0m\u001b[0;34m[\u001b[0m\u001b[0;36m1\u001b[0m\u001b[0;34m,\u001b[0m\u001b[0;36m1\u001b[0m\u001b[0;34m]\u001b[0m\u001b[0;34m,\u001b[0m\u001b[0;36m0.0000001\u001b[0m\u001b[0;34m)\u001b[0m\u001b[0;34m\u001b[0m\u001b[0;34m\u001b[0m\u001b[0m\n\u001b[0m",
      "\u001b[0;32m/tmp/ipykernel_15826/1566143363.py\u001b[0m in \u001b[0;36mminiBatchGradientDescent\u001b[0;34m(dataSet, batchSize, model, learningRate)\u001b[0m\n\u001b[1;32m     14\u001b[0m         \u001b[0;32mreturn\u001b[0m \u001b[0mmodel\u001b[0m\u001b[0;34m\u001b[0m\u001b[0;34m\u001b[0m\u001b[0m\n\u001b[1;32m     15\u001b[0m     \u001b[0;32melse\u001b[0m\u001b[0;34m:\u001b[0m\u001b[0;34m\u001b[0m\u001b[0;34m\u001b[0m\u001b[0m\n\u001b[0;32m---> 16\u001b[0;31m         \u001b[0;32mreturn\u001b[0m \u001b[0mminiBatchGradientDescent\u001b[0m\u001b[0;34m(\u001b[0m\u001b[0mdataSet\u001b[0m\u001b[0;34m,\u001b[0m \u001b[0mbatchSize\u001b[0m\u001b[0;34m,\u001b[0m \u001b[0mmodel\u001b[0m\u001b[0;34m,\u001b[0m \u001b[0mlearningRate\u001b[0m\u001b[0;34m)\u001b[0m\u001b[0;34m\u001b[0m\u001b[0;34m\u001b[0m\u001b[0m\n\u001b[0m\u001b[1;32m     17\u001b[0m \u001b[0;34m\u001b[0m\u001b[0m\n\u001b[1;32m     18\u001b[0m \u001b[0;31m#a helper function for miniBatchGradientDescent\u001b[0m\u001b[0;34m\u001b[0m\u001b[0;34m\u001b[0m\u001b[0;34m\u001b[0m\u001b[0m\n",
      "... last 1 frames repeated, from the frame below ...\n",
      "\u001b[0;32m/tmp/ipykernel_15826/1566143363.py\u001b[0m in \u001b[0;36mminiBatchGradientDescent\u001b[0;34m(dataSet, batchSize, model, learningRate)\u001b[0m\n\u001b[1;32m     14\u001b[0m         \u001b[0;32mreturn\u001b[0m \u001b[0mmodel\u001b[0m\u001b[0;34m\u001b[0m\u001b[0;34m\u001b[0m\u001b[0m\n\u001b[1;32m     15\u001b[0m     \u001b[0;32melse\u001b[0m\u001b[0;34m:\u001b[0m\u001b[0;34m\u001b[0m\u001b[0;34m\u001b[0m\u001b[0m\n\u001b[0;32m---> 16\u001b[0;31m         \u001b[0;32mreturn\u001b[0m \u001b[0mminiBatchGradientDescent\u001b[0m\u001b[0;34m(\u001b[0m\u001b[0mdataSet\u001b[0m\u001b[0;34m,\u001b[0m \u001b[0mbatchSize\u001b[0m\u001b[0;34m,\u001b[0m \u001b[0mmodel\u001b[0m\u001b[0;34m,\u001b[0m \u001b[0mlearningRate\u001b[0m\u001b[0;34m)\u001b[0m\u001b[0;34m\u001b[0m\u001b[0;34m\u001b[0m\u001b[0m\n\u001b[0m\u001b[1;32m     17\u001b[0m \u001b[0;34m\u001b[0m\u001b[0m\n\u001b[1;32m     18\u001b[0m \u001b[0;31m#a helper function for miniBatchGradientDescent\u001b[0m\u001b[0;34m\u001b[0m\u001b[0;34m\u001b[0m\u001b[0;34m\u001b[0m\u001b[0m\n",
      "\u001b[0;31mRecursionError\u001b[0m: maximum recursion depth exceeded while calling a Python object"
     ]
    }
   ],
   "source": [
    "#even for very small learning rates, mini batch gradient descent is not converging :(\n",
    "miniBatchGradientDescent(dataSet,20,[1,1],0.0000001)\n",
    "stochasticGradientDescent(dataSet,[1,1],0.0000001)"
   ]
  }
 ],
 "metadata": {
  "kernelspec": {
   "display_name": "Python 3 (ipykernel)",
   "language": "python",
   "name": "python3"
  },
  "language_info": {
   "codemirror_mode": {
    "name": "ipython",
    "version": 3
   },
   "file_extension": ".py",
   "mimetype": "text/x-python",
   "name": "python",
   "nbconvert_exporter": "python",
   "pygments_lexer": "ipython3",
   "version": "3.9.6"
  }
 },
 "nbformat": 4,
 "nbformat_minor": 5
}
