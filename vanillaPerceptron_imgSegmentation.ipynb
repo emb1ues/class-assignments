{
 "cells": [
  {
   "cell_type": "code",
   "execution_count": 1,
   "id": "9e998303",
   "metadata": {},
   "outputs": [],
   "source": [
    "import pandas as pd\n",
    "import numpy as np\n",
    "from matplotlib import pyplot as plt"
   ]
  },
  {
   "cell_type": "code",
   "execution_count": 2,
   "id": "0a270ed8",
   "metadata": {
    "scrolled": true
   },
   "outputs": [],
   "source": [
    "def data_read(path):\n",
    "    \n",
    "    df = pd.read_csv(path)\n",
    "    df.dropna(inplace=True)\n",
    "    df.set_index('LABELS', inplace=True)\n",
    "    df.index.unique()\n",
    "    unwanted = ['BRICKFACE', 'FOLIAGE', 'SKY', 'WINDOW', 'PATH']\n",
    "    df.drop(unwanted, inplace=True)\n",
    "    \n",
    "    labels_dict = {'CEMENT'  : 1,\n",
    "                   'GRASS': -1}\n",
    "    \n",
    "    Y = np.array(df.index.map(labels_dict))\n",
    "    X = np.array(df.reset_index().drop('LABELS',axis = 1))\n",
    "    \n",
    "    return X,Y"
   ]
  },
  {
   "cell_type": "code",
   "execution_count": 3,
   "id": "77ca2740",
   "metadata": {},
   "outputs": [],
   "source": [
    "def activation(x,weights,bias):\n",
    "    return np.dot(x,weights) + bias"
   ]
  },
  {
   "cell_type": "code",
   "execution_count": 4,
   "id": "417bea15",
   "metadata": {},
   "outputs": [],
   "source": [
    "def model_fit(X_train,y_train,epochs):\n",
    "    shuffler = np.random.permutation(len(y_train))\n",
    "    X_train = X_train[shuffler]\n",
    "    y_train = y_train[shuffler]\n",
    "    datapoints_len, weights_len = X_train.shape\n",
    "    weights = np.zeros(weights_len)\n",
    "    bias = 0\n",
    "    \n",
    "    weightsEpoch = np.zeros((epochs,weights_len))\n",
    "    biasEpoch = np.zeros(epochs)\n",
    "    \n",
    "    for epoch in range(epochs):\n",
    "        for feature in range(datapoints_len):\n",
    "            x = X_train[feature]\n",
    "            y = y_train[feature]\n",
    "            a = activation(x, weights, bias)\n",
    "\n",
    "            if y*a<=0:\n",
    "                weights = weights + y*x\n",
    "                bias += y\n",
    "        \n",
    "        weightsEpoch[epoch] = weights\n",
    "        biasEpoch[epoch] = bias\n",
    "                \n",
    "    return weights, bias, weightsEpoch, biasEpoch"
   ]
  },
  {
   "cell_type": "code",
   "execution_count": 5,
   "id": "82cd925a",
   "metadata": {},
   "outputs": [],
   "source": [
    "def accuracy(X, Y, weights, bias):\n",
    "    y_predicted = list(map(lambda i: np.sign(activation(i,weights,bias)),X))\n",
    "    accuracy = np.sum(y_predicted*Y)/len(y_predicted*Y)\n",
    "    return accuracy\n"
   ]
  },
  {
   "cell_type": "code",
   "execution_count": 31,
   "id": "78a1d4de",
   "metadata": {},
   "outputs": [],
   "source": [
    "X_train,y_train = data_read(\"segmentation-train.csv\")\n",
    "epochs = 25\n",
    "weights, bias, weightsEpoch, biasEpoch = model_fit(X_train,y_train,epochs)"
   ]
  },
  {
   "cell_type": "code",
   "execution_count": 32,
   "id": "771e652e",
   "metadata": {},
   "outputs": [
    {
     "data": {
      "text/plain": [
       "1.0"
      ]
     },
     "execution_count": 32,
     "metadata": {},
     "output_type": "execute_result"
    }
   ],
   "source": [
    "train_accuracy = accuracy(X_train, y_train, weights, bias)\n",
    "train_accuracy"
   ]
  },
  {
   "cell_type": "code",
   "execution_count": 33,
   "id": "7d654c83",
   "metadata": {},
   "outputs": [
    {
     "data": {
      "text/plain": [
       "0.9766666666666667"
      ]
     },
     "execution_count": 33,
     "metadata": {},
     "output_type": "execute_result"
    }
   ],
   "source": [
    "X_test,y_test = data_read(\"segmentation-test.csv\")\n",
    "test_accuracy = accuracy(X_test, y_test, weights, bias)\n",
    "test_accuracy"
   ]
  },
  {
   "cell_type": "code",
   "execution_count": 34,
   "id": "31585f02",
   "metadata": {},
   "outputs": [],
   "source": [
    "accuracyEpochWise = [accuracy(X_test, y_test, weightsEpoch[i], biasEpoch[i]) for i in range(epochs)]"
   ]
  },
  {
   "cell_type": "code",
   "execution_count": 35,
   "id": "4244adcd",
   "metadata": {},
   "outputs": [
    {
     "data": {
      "text/plain": [
       "Text(0, 0.5, 'accuracy')"
      ]
     },
     "execution_count": 35,
     "metadata": {},
     "output_type": "execute_result"
    },
    {
     "data": {
      "image/png": "[encoded data removed]",
      "text/plain": [
       "<Figure size 432x288 with 1 Axes>"
      ]
     },
     "metadata": {
      "needs_background": "light"
     },
     "output_type": "display_data"
    }
   ],
   "source": [
    "plt.plot(np.arange(1,epochs+1),accuracyEpochWise,'-b')\n",
    "plt.xlabel(\"epochs\")\n",
    "plt.ylabel(\"accuracy\")"
   ]
  },
  {
   "cell_type": "code",
   "execution_count": null,
   "id": "dad4d9fa",
   "metadata": {},
   "outputs": [],
   "source": []
  }
 ],
 "metadata": {
  "kernelspec": {
   "display_name": "Python 3 (ipykernel)",
   "language": "python",
   "name": "python3"
  },
  "language_info": {
   "codemirror_mode": {
    "name": "ipython",
    "version": 3
   },
   "file_extension": ".py",
   "mimetype": "text/x-python",
   "name": "python",
   "nbconvert_exporter": "python",
   "pygments_lexer": "ipython3",
   "version": "3.9.6"
  }
 },
 "nbformat": 4,
 "nbformat_minor": 5
}
