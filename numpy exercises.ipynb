{
 "cells": [
  {
   "cell_type": "markdown",
   "id": "dae72f84",
   "metadata": {},
   "source": [
    "#### 1. Import the numpy package under the name `np` (★☆☆)"
   ]
  },
  {
   "cell_type": "code",
   "execution_count": 1,
   "id": "1662585a",
   "metadata": {},
   "outputs": [],
   "source": [
    "import numpy as np"
   ]
  },
  {
   "cell_type": "markdown",
   "id": "46950f4f",
   "metadata": {},
   "source": [
    "#### 2. Print the numpy version and the configuration (★☆☆)"
   ]
  },
  {
   "cell_type": "code",
   "execution_count": 14,
   "id": "2a9f5838",
   "metadata": {
    "collapsed": true
   },
   "outputs": [
    {
     "name": "stdout",
     "output_type": "stream",
     "text": [
      "version: 1.20.3\n",
      "config:\n",
      "blas_mkl_info:\n",
      "  NOT AVAILABLE\n",
      "blis_info:\n",
      "  NOT AVAILABLE\n",
      "openblas_info:\n",
      "  NOT AVAILABLE\n",
      "atlas_3_10_blas_threads_info:\n",
      "  NOT AVAILABLE\n",
      "atlas_3_10_blas_info:\n",
      "  NOT AVAILABLE\n",
      "atlas_blas_threads_info:\n",
      "  NOT AVAILABLE\n",
      "atlas_blas_info:\n",
      "  NOT AVAILABLE\n",
      "blas_info:\n",
      "    libraries = ['cblas', 'blas', 'blas']\n",
      "    library_dirs = ['/usr/lib64']\n",
      "    include_dirs = ['/usr/local/include', '/usr/include']\n",
      "    language = c\n",
      "    define_macros = [('HAVE_CBLAS', None)]\n",
      "blas_opt_info:\n",
      "    define_macros = [('NO_ATLAS_INFO', 1), ('HAVE_CBLAS', None)]\n",
      "    libraries = ['cblas', 'blas', 'blas']\n",
      "    library_dirs = ['/usr/lib64']\n",
      "    include_dirs = ['/usr/local/include', '/usr/include']\n",
      "    language = c\n",
      "lapack_mkl_info:\n",
      "  NOT AVAILABLE\n",
      "openblas_lapack_info:\n",
      "  NOT AVAILABLE\n",
      "openblas_clapack_info:\n",
      "  NOT AVAILABLE\n",
      "flame_info:\n",
      "  NOT AVAILABLE\n",
      "atlas_3_10_threads_info:\n",
      "  NOT AVAILABLE\n",
      "atlas_3_10_info:\n",
      "  NOT AVAILABLE\n",
      "atlas_threads_info:\n",
      "  NOT AVAILABLE\n",
      "atlas_info:\n",
      "  NOT AVAILABLE\n",
      "lapack_info:\n",
      "    libraries = ['lapack', 'lapack']\n",
      "    library_dirs = ['/usr/lib64']\n",
      "    language = f77\n",
      "lapack_opt_info:\n",
      "    libraries = ['lapack', 'lapack', 'cblas', 'blas', 'blas']\n",
      "    library_dirs = ['/usr/lib64']\n",
      "    language = c\n",
      "    define_macros = [('NO_ATLAS_INFO', 1), ('HAVE_CBLAS', None)]\n",
      "    include_dirs = ['/usr/local/include', '/usr/include']\n"
     ]
    }
   ],
   "source": [
    "print(\"version: \" + str(np.__version__))\n",
    "print(\"config:\")\n",
    "np.show_config()\n"
   ]
  },
  {
   "cell_type": "markdown",
   "id": "e3c20b3d",
   "metadata": {},
   "source": [
    "#### 3. Create a null vector of size 10 (★☆☆)"
   ]
  },
  {
   "cell_type": "code",
   "execution_count": 40,
   "id": "8a758bcf",
   "metadata": {},
   "outputs": [],
   "source": [
    "A = np.zeros(10)\n",
    "#alternatively, np.empty() can be used (faster)"
   ]
  },
  {
   "cell_type": "markdown",
   "id": "b15a879f",
   "metadata": {},
   "source": [
    "#### 4. How to find the memory size of any array (★☆☆)"
   ]
  },
  {
   "cell_type": "code",
   "execution_count": 41,
   "id": "1cc3cbc5",
   "metadata": {},
   "outputs": [
    {
     "name": "stdout",
     "output_type": "stream",
     "text": [
      "80\n"
     ]
    }
   ],
   "source": [
    "print(A.nbytes)"
   ]
  },
  {
   "cell_type": "markdown",
   "id": "0a708990",
   "metadata": {},
   "source": [
    "#### 5. How to get the documentation of the numpy add function from the command line? (★☆☆)"
   ]
  },
  {
   "cell_type": "code",
   "execution_count": null,
   "id": "477e01f4",
   "metadata": {},
   "outputs": [],
   "source": []
  },
  {
   "cell_type": "markdown",
   "id": "0b16cd77",
   "metadata": {},
   "source": [
    "#### 6. Create a null vector of size 10 but the fifth value which is 1 (★☆☆)"
   ]
  },
  {
   "cell_type": "code",
   "execution_count": 68,
   "id": "4d9b5975",
   "metadata": {},
   "outputs": [
    {
     "name": "stdout",
     "output_type": "stream",
     "text": [
      "[0 0 0 0 1 0 0 0 0]\n"
     ]
    }
   ],
   "source": [
    "A = np.zeros(4, dtype=int)\n",
    "B = np.ones(1, dtype=int)\n",
    "C = np.zeros(4, dtype=int)\n",
    "D = np.concatenate((A,B,C))\n",
    "print(D)\n",
    "\n",
    "#alt: \n",
    "# A = np.zeroes(10)\n",
    "# A[4] = 1\n"
   ]
  },
  {
   "cell_type": "markdown",
   "id": "782d4c77",
   "metadata": {},
   "source": [
    "#### 7. Create a vector with values ranging from 10 to 49 (★☆☆)"
   ]
  },
  {
   "cell_type": "code",
   "execution_count": 28,
   "id": "5dbe1a08",
   "metadata": {},
   "outputs": [
    {
     "data": {
      "text/plain": [
       "array([10, 11, 12, 13, 14, 15, 16, 17, 18, 19, 20, 21, 22, 23, 24, 25, 26,\n",
       "       27, 28, 29, 30, 31, 32, 33, 34, 35, 36, 37, 38, 39, 40, 41, 42, 43,\n",
       "       44, 45, 46, 47, 48])"
      ]
     },
     "execution_count": 28,
     "metadata": {},
     "output_type": "execute_result"
    }
   ],
   "source": [
    "A = np.arange(10,49)\n",
    "A"
   ]
  },
  {
   "cell_type": "markdown",
   "id": "48d48f01",
   "metadata": {},
   "source": [
    "#### 8. Reverse a vector (first element becomes last) (★☆☆)"
   ]
  },
  {
   "cell_type": "code",
   "execution_count": 29,
   "id": "3ed233e7",
   "metadata": {},
   "outputs": [
    {
     "data": {
      "text/plain": [
       "array([48, 47, 46, 45, 44, 43, 42, 41, 40, 39, 38, 37, 36, 35, 34, 33, 32,\n",
       "       31, 30, 29, 28, 27, 26, 25, 24, 23, 22, 21, 20, 19, 18, 17, 16, 15,\n",
       "       14, 13, 12, 11, 10])"
      ]
     },
     "execution_count": 29,
     "metadata": {},
     "output_type": "execute_result"
    }
   ],
   "source": [
    "A = A[::-1]\n",
    "A"
   ]
  },
  {
   "cell_type": "markdown",
   "id": "4fa39382",
   "metadata": {},
   "source": [
    "#### 9. Create a 3x3 matrix with values ranging from 0 to 8 (★☆☆)"
   ]
  },
  {
   "cell_type": "code",
   "execution_count": 32,
   "id": "c97757ec",
   "metadata": {},
   "outputs": [
    {
     "data": {
      "text/plain": [
       "array([[0, 1, 2],\n",
       "       [3, 4, 5],\n",
       "       [6, 7, 8]])"
      ]
     },
     "execution_count": 32,
     "metadata": {},
     "output_type": "execute_result"
    }
   ],
   "source": [
    "A = np.arange(9)\n",
    "np.reshape(A,(3,3))"
   ]
  },
  {
   "cell_type": "markdown",
   "id": "da64551a",
   "metadata": {},
   "source": [
    "#### 10. Find indices of non-zero elements from [1,2,0,0,4,0] (★☆☆)"
   ]
  },
  {
   "cell_type": "code",
   "execution_count": 85,
   "id": "327f7adb",
   "metadata": {},
   "outputs": [
    {
     "name": "stdout",
     "output_type": "stream",
     "text": [
      "[1, 2, 4] count:  3\n"
     ]
    }
   ],
   "source": [
    "A = [1,2,0,0,4,0]\n",
    "B = []\n",
    "counter = 0\n",
    "for i in A:\n",
    "    if i:\n",
    "        B.append(i)\n",
    "        counter += 1\n",
    "print(B, \"count: \", len(B))\n",
    "#probably np.append is faster\n",
    "    "
   ]
  },
  {
   "cell_type": "markdown",
   "id": "f89d9c9e",
   "metadata": {},
   "source": [
    "#### 11. Create a 3x3 identity matrix (★☆☆)"
   ]
  },
  {
   "cell_type": "code",
   "execution_count": 52,
   "id": "ba625832",
   "metadata": {},
   "outputs": [
    {
     "name": "stdout",
     "output_type": "stream",
     "text": [
      "[[1 0 0]\n",
      " [0 1 0]\n",
      " [0 0 1]]\n"
     ]
    }
   ],
   "source": [
    "A = np.eye(3, dtype=int)\n",
    "print(A)"
   ]
  },
  {
   "cell_type": "markdown",
   "id": "7e44c6fa",
   "metadata": {},
   "source": [
    "#### 12. Create a 3x3x3 array with random values (★☆☆)"
   ]
  },
  {
   "cell_type": "code",
   "execution_count": 71,
   "id": "1cb3dddf",
   "metadata": {},
   "outputs": [
    {
     "name": "stdout",
     "output_type": "stream",
     "text": [
      "[[[0.62597478 0.19729467 0.33635877]\n",
      "  [0.24500344 0.93646487 0.57917774]\n",
      "  [0.14608195 0.6250029  0.75135339]]\n",
      "\n",
      " [[0.65769054 0.89047322 0.89851183]\n",
      "  [0.92062183 0.4622981  0.70985467]\n",
      "  [0.38865803 0.51448459 0.41634601]]\n",
      "\n",
      " [[0.82206244 0.82109941 0.82949182]\n",
      "  [0.30536066 0.16280358 0.65136045]\n",
      "  [0.03585768 0.79727193 0.56804411]]]\n"
     ]
    }
   ],
   "source": [
    "A = np.random.rand(3,3,3)\n",
    "print(A)\n",
    "    "
   ]
  },
  {
   "cell_type": "markdown",
   "id": "13c5928c",
   "metadata": {},
   "source": [
    "#### 13. Create a 10x10 array with random values and find the minimum and maximum values (★☆☆)"
   ]
  },
  {
   "cell_type": "code",
   "execution_count": 76,
   "id": "911c9b93",
   "metadata": {},
   "outputs": [
    {
     "name": "stdout",
     "output_type": "stream",
     "text": [
      "[[0.59125232 0.31557926 0.10620234 0.74491262 0.38302801 0.28420219\n",
      "  0.20050078 0.61748837 0.19781486 0.65069867]\n",
      " [0.13919958 0.2789514  0.60110871 0.22419132 0.11488305 0.51289431\n",
      "  0.2040612  0.23200509 0.38486491 0.47705553]\n",
      " [0.65343247 0.54999203 0.83130204 0.3463249  0.31433031 0.51854976\n",
      "  0.98258651 0.16673711 0.51501979 0.07081251]\n",
      " [0.06620434 0.68513875 0.22048346 0.00636492 0.01623839 0.4965384\n",
      "  0.99013108 0.18598524 0.86856364 0.50970841]\n",
      " [0.911196   0.51551931 0.50986131 0.32403702 0.7591287  0.0844312\n",
      "  0.71070137 0.14908164 0.76495552 0.51317542]\n",
      " [0.22318893 0.24981116 0.51056314 0.53396902 0.98844223 0.16527848\n",
      "  0.08291527 0.51710519 0.60106624 0.37581148]\n",
      " [0.73587997 0.19999402 0.39293491 0.01990596 0.53751148 0.3140082\n",
      "  0.74084943 0.42725183 0.48602805 0.83580309]\n",
      " [0.42232968 0.54079926 0.88751312 0.93585633 0.75497933 0.08550411\n",
      "  0.03657547 0.74033382 0.28394848 0.32658242]\n",
      " [0.4170848  0.36655848 0.45847161 0.13034412 0.50120881 0.89459372\n",
      "  0.25045593 0.11705143 0.02399314 0.76706832]\n",
      " [0.7942479  0.53449328 0.90466357 0.63456734 0.53187049 0.40569901\n",
      "  0.58205889 0.09593478 0.55161104 0.01472702]]\n",
      "max:  0.9901310805436659 at 36\n",
      "min:  0.0063649191377972425 at 33\n"
     ]
    }
   ],
   "source": [
    "A = np.random.rand(10,10)\n",
    "print(A)\n",
    "print(\"max: \", np.amax(A), \"at\", np.argmax(A))\n",
    "print(\"min: \", np.amin(A), \"at\", np.argmin(A))"
   ]
  },
  {
   "cell_type": "markdown",
   "id": "3fa2e461",
   "metadata": {},
   "source": [
    "#### 14. Create a random vector of size 30 and find the mean value (★☆☆)"
   ]
  },
  {
   "cell_type": "code",
   "execution_count": 81,
   "id": "323eb38a",
   "metadata": {},
   "outputs": [
    {
     "name": "stdout",
     "output_type": "stream",
     "text": [
      "[0.1963094  0.41979803 0.41623883 0.49084377 0.57675352 0.30842711\n",
      " 0.6778621  0.1285782  0.99086654 0.54916204 0.97869282 0.37645742\n",
      " 0.42976125 0.92941985 0.82603724 0.05347397 0.25064898 0.47284882\n",
      " 0.55372041 0.76360777 0.46476815 0.16151784 0.46994531 0.30965026\n",
      " 0.4900162  0.50976916 0.48651186 0.35158661 0.14198984 0.3538265 ]\n",
      "mean:  0.47096966037942223\n"
     ]
    }
   ],
   "source": [
    "A = np.random.rand(30)\n",
    "print(A)\n",
    "print(\"mean: \", np.mean(A))"
   ]
  },
  {
   "cell_type": "markdown",
   "id": "73f7a549",
   "metadata": {},
   "source": [
    "#### 15. Create a 2d array with 1 on the border and 0 inside (★☆☆)"
   ]
  },
  {
   "cell_type": "code",
   "execution_count": 92,
   "id": "e3a6807d",
   "metadata": {},
   "outputs": [
    {
     "name": "stdout",
     "output_type": "stream",
     "text": [
      "[[1 1 1 1 1]\n",
      " [1 0 0 0 1]\n",
      " [1 0 0 0 1]\n",
      " [1 0 0 0 1]\n",
      " [1 1 1 1 1]]\n"
     ]
    }
   ],
   "source": [
    "dim = 5\n",
    "A = np.zeros((dim,dim), dtype=int)\n",
    "for i in range(dim):\n",
    "    for j in range(dim):\n",
    "        if np.isin(True, np.isin([i,j],[0,dim-1])):\n",
    "            A[i,j] = 1      \n",
    "print(A)"
   ]
  },
  {
   "cell_type": "markdown",
   "id": "6d0c506f",
   "metadata": {},
   "source": [
    "#### 16. How to add a border (filled with 0's) around an existing array? (★☆☆)"
   ]
  },
  {
   "cell_type": "code",
   "execution_count": null,
   "id": "32ffee7b",
   "metadata": {},
   "outputs": [],
   "source": []
  },
  {
   "cell_type": "markdown",
   "id": "d6ad1a9f",
   "metadata": {},
   "source": [
    "#### 17. What is the result of the following expression? (★☆☆)\n",
    "```python\n",
    "0 * np.nan\n",
    "np.nan == np.nan\n",
    "np.inf > np.nan\n",
    "np.nan - np.nan\n",
    "np.nan in set([np.nan])\n",
    "0.3 == 3 * 0.1\n",
    "```"
   ]
  },
  {
   "cell_type": "code",
   "execution_count": 6,
   "id": "ee7ff0f3",
   "metadata": {},
   "outputs": [
    {
     "name": "stdout",
     "output_type": "stream",
     "text": [
      "nan False False nan True False\n"
     ]
    }
   ],
   "source": [
    "print(0 * np.nan, \n",
    "np.nan == np.nan,\n",
    "np.inf > np.nan,\n",
    "np.nan - np.nan,\n",
    "np.nan in set([np.nan]),\n",
    "0.3 == 3 * 0.1) #hacks XD"
   ]
  },
  {
   "cell_type": "markdown",
   "id": "e3a7ba7f",
   "metadata": {},
   "source": [
    "#### 18. Create a 5x5 matrix with values 1,2,3,4 just below the diagonal (★☆☆)"
   ]
  },
  {
   "cell_type": "code",
   "execution_count": 36,
   "id": "01d8e257",
   "metadata": {},
   "outputs": [
    {
     "name": "stdout",
     "output_type": "stream",
     "text": [
      "[[0 0 0 0 0]\n",
      " [1 0 0 0 0]\n",
      " [0 2 0 0 0]\n",
      " [0 0 3 0 0]\n",
      " [0 0 0 4 0]]\n"
     ]
    }
   ],
   "source": [
    "A = np.zeros((5,5), dtype=int)\n",
    "A[1:,:-1]=np.diag((1,2,3,4))\n",
    "print(A)"
   ]
  },
  {
   "cell_type": "code",
   "execution_count": 55,
   "id": "64898864",
   "metadata": {},
   "outputs": [
    {
     "name": "stdout",
     "output_type": "stream",
     "text": [
      "[[0 0 0 0 0]\n",
      " [1 0 0 0 0]\n",
      " [0 2 0 0 0]\n",
      " [0 0 3 0 0]\n",
      " [0 0 0 4 0]]\n"
     ]
    }
   ],
   "source": [
    "#alt\n",
    "A = np.diag((1,2,3,4))\n",
    "A = np.append(A,np.transpose([np.zeros(4, dtype=int)]), axis=1)\n",
    "A = np.insert(A,0,0,axis=0)\n",
    "print(A)\n"
   ]
  },
  {
   "cell_type": "markdown",
   "id": "6d17ab5d",
   "metadata": {},
   "source": [
    "#### 19. Create a 8x8 matrix and fill it with a checkerboard pattern (★☆☆)"
   ]
  },
  {
   "cell_type": "code",
   "execution_count": 61,
   "id": "841373cd",
   "metadata": {},
   "outputs": [
    {
     "name": "stdout",
     "output_type": "stream",
     "text": [
      "[[0 1 0 1 0 1 0 1]\n",
      " [1 0 1 0 1 0 1 0]\n",
      " [0 1 0 1 0 1 0 1]\n",
      " [1 0 1 0 1 0 1 0]\n",
      " [0 1 0 1 0 1 0 1]\n",
      " [1 0 1 0 1 0 1 0]\n",
      " [0 1 0 1 0 1 0 1]\n",
      " [1 0 1 0 1 0 1 0]]\n"
     ]
    }
   ],
   "source": [
    "A = np.zeros((8,8),dtype=int)\n",
    "for i in range(8):\n",
    "    for j in range(8):\n",
    "        if (i+j)%2:\n",
    "            A[i,j]=1\n",
    "print(A)"
   ]
  },
  {
   "cell_type": "markdown",
   "id": "8837119b",
   "metadata": {},
   "source": [
    "#### 20. Consider a (6,7,8) shape array, what is the index (x,y,z) of the 100th element? (★☆☆)"
   ]
  },
  {
   "cell_type": "code",
   "execution_count": 77,
   "id": "2c0d16f1",
   "metadata": {},
   "outputs": [
    {
     "name": "stdout",
     "output_type": "stream",
     "text": [
      "1\n",
      "5\n",
      "3\n"
     ]
    }
   ],
   "source": [
    "print(int(100/(7*8)))\n",
    "print(int((100-56)/8))\n",
    "print(int((100-56-40-1)))\n"
   ]
  },
  {
   "cell_type": "markdown",
   "id": "ec788c9f",
   "metadata": {},
   "source": [
    "#### 21. Create a checkerboard 8x8 matrix using the tile function (★☆☆)"
   ]
  },
  {
   "cell_type": "code",
   "execution_count": null,
   "id": "0a4f919f",
   "metadata": {},
   "outputs": [],
   "source": []
  },
  {
   "cell_type": "markdown",
   "id": "391791e0",
   "metadata": {},
   "source": [
    "#### 22. Normalize a 5x5 random matrix (★☆☆)"
   ]
  },
  {
   "cell_type": "code",
   "execution_count": 82,
   "id": "f6533d39",
   "metadata": {},
   "outputs": [
    {
     "name": "stdout",
     "output_type": "stream",
     "text": [
      "[[0.2634276  0.1335801  0.21333094 0.31481571 0.28479369]\n",
      " [0.301253   0.23036689 0.22369762 0.18162792 0.15232271]\n",
      " [0.19064741 0.08730702 0.00096307 0.25166326 0.17949061]\n",
      " [0.14367311 0.06140214 0.22760223 0.11515941 0.26277808]\n",
      " [0.28129405 0.1983095  0.02467367 0.02402276 0.13889915]] 0.9999999999999999\n"
     ]
    }
   ],
   "source": [
    "A = np.random.rand(5,5)\n",
    "det = np.linalg.norm(A)\n",
    "A /= det\n",
    "print(A,np.linalg.norm(A))"
   ]
  },
  {
   "cell_type": "markdown",
   "id": "1e74d39e",
   "metadata": {},
   "source": [
    "#### 23. Create a custom dtype that describes a color as four unsigned bytes (RGBA) (★☆☆)"
   ]
  },
  {
   "cell_type": "code",
   "execution_count": null,
   "id": "3f639d33",
   "metadata": {},
   "outputs": [],
   "source": []
  },
  {
   "cell_type": "markdown",
   "id": "78250c14",
   "metadata": {},
   "source": [
    "#### 24. Multiply a 5x3 matrix by a 3x2 matrix (real matrix product) (★☆☆)"
   ]
  },
  {
   "cell_type": "code",
   "execution_count": 86,
   "id": "9fe729cb",
   "metadata": {},
   "outputs": [
    {
     "name": "stdout",
     "output_type": "stream",
     "text": [
      "[[0.82894612 1.02589247]\n",
      " [0.15752414 0.18387936]\n",
      " [0.72649726 1.01507177]\n",
      " [0.40063595 0.51602914]\n",
      " [1.13882323 1.47627843]]\n"
     ]
    }
   ],
   "source": [
    "A = np.random.rand(5,3)\n",
    "B = np.random.rand(3,2)\n",
    "C = np.matmul(A,B)\n",
    "print(C)"
   ]
  },
  {
   "cell_type": "markdown",
   "id": "51898680",
   "metadata": {},
   "source": [
    "#### 25. Given a 1D array, negate all elements which are between 3 and 8, in place. (★☆☆)"
   ]
  },
  {
   "cell_type": "code",
   "execution_count": null,
   "id": "51c90f2d",
   "metadata": {},
   "outputs": [],
   "source": []
  },
  {
   "cell_type": "markdown",
   "id": "89e78048",
   "metadata": {},
   "source": [
    "#### 26. What is the output of the following script? (★☆☆)\n",
    "```python\n",
    "# Author: Jake VanderPlas\n",
    "\n",
    "print(sum(range(5),-1))\n",
    "from numpy import *\n",
    "print(sum(range(5),-1))\n",
    "```"
   ]
  },
  {
   "cell_type": "code",
   "execution_count": null,
   "id": "b62e9d1c",
   "metadata": {},
   "outputs": [],
   "source": []
  },
  {
   "cell_type": "markdown",
   "id": "ebd10810",
   "metadata": {},
   "source": [
    "#### 27. Consider an integer vector Z, which of these expressions are legal? (★☆☆)\n",
    "```python\n",
    "Z**Z\n",
    "2 << Z >> 2\n",
    "Z <- Z\n",
    "1j*Z\n",
    "Z/1/1\n",
    "Z<Z>Z\n",
    "```"
   ]
  },
  {
   "cell_type": "code",
   "execution_count": 1,
   "id": "6ada209f",
   "metadata": {},
   "outputs": [
    {
     "name": "stdout",
     "output_type": "stream",
     "text": [
      "1 1 False 1j 1.0 False\n"
     ]
    }
   ],
   "source": []
  },
  {
   "cell_type": "markdown",
   "id": "c0e940f8",
   "metadata": {},
   "source": [
    "#### 28. What are the result of the following expressions? (★☆☆)\n",
    "```python\n",
    "np.array(0) / np.array(0)\n",
    "np.array(0) // np.array(0)\n",
    "np.array([np.nan]).astype(int).astype(float)\n",
    "```"
   ]
  },
  {
   "cell_type": "code",
   "execution_count": null,
   "id": "820dc7a5",
   "metadata": {},
   "outputs": [],
   "source": []
  },
  {
   "cell_type": "markdown",
   "id": "22713c3f",
   "metadata": {},
   "source": [
    "#### 29. How to round away from zero a float array ? (★☆☆)"
   ]
  },
  {
   "cell_type": "code",
   "execution_count": null,
   "id": "a3e05c29",
   "metadata": {},
   "outputs": [],
   "source": []
  },
  {
   "cell_type": "markdown",
   "id": "f1ae2c2d",
   "metadata": {},
   "source": [
    "#### 30. How to find common values between two arrays? (★☆☆)"
   ]
  },
  {
   "cell_type": "code",
   "execution_count": null,
   "id": "6801c73d",
   "metadata": {},
   "outputs": [],
   "source": [
    "use np.intersect1d"
   ]
  },
  {
   "cell_type": "markdown",
   "id": "34a7bdee",
   "metadata": {},
   "source": [
    "#### 31. How to ignore all numpy warnings (not recommended)? (★☆☆)"
   ]
  },
  {
   "cell_type": "code",
   "execution_count": null,
   "id": "befc60d1",
   "metadata": {},
   "outputs": [],
   "source": []
  },
  {
   "cell_type": "markdown",
   "id": "37bc0973",
   "metadata": {},
   "source": [
    "#### 32. Is the following expressions true? (★☆☆)\n",
    "```python\n",
    "np.sqrt(-1) == np.emath.sqrt(-1)\n",
    "```"
   ]
  },
  {
   "cell_type": "code",
   "execution_count": null,
   "id": "c70cbabe",
   "metadata": {},
   "outputs": [],
   "source": []
  },
  {
   "cell_type": "markdown",
   "id": "129c342d",
   "metadata": {},
   "source": [
    "#### 33. How to get the dates of yesterday, today and tomorrow? (★☆☆)"
   ]
  },
  {
   "cell_type": "code",
   "execution_count": 17,
   "id": "8ba1badb",
   "metadata": {},
   "outputs": [
    {
     "name": "stdout",
     "output_type": "stream",
     "text": [
      "2021-09-03 2021-09-04 2021-09-05\n"
     ]
    }
   ],
   "source": [
    "today = np.datetime64('today')\n",
    "yesterday = today - 1\n",
    "tomorrow = today + 1\n",
    "print(yesterday, today, tomorrow)"
   ]
  },
  {
   "cell_type": "markdown",
   "id": "42f8b2f9",
   "metadata": {},
   "source": [
    "#### 34. How to get all the dates corresponding to the month of July 2016? (★★☆)"
   ]
  },
  {
   "cell_type": "code",
   "execution_count": 27,
   "id": "eb8ebe45",
   "metadata": {},
   "outputs": [
    {
     "name": "stdout",
     "output_type": "stream",
     "text": [
      "2016-07-01\n",
      "2016-07-02\n",
      "2016-07-03\n",
      "2016-07-04\n",
      "2016-07-05\n",
      "2016-07-06\n",
      "2016-07-07\n",
      "2016-07-08\n",
      "2016-07-09\n",
      "2016-07-10\n",
      "2016-07-11\n",
      "2016-07-12\n",
      "2016-07-13\n",
      "2016-07-14\n",
      "2016-07-15\n",
      "2016-07-16\n",
      "2016-07-17\n",
      "2016-07-18\n",
      "2016-07-19\n",
      "2016-07-20\n",
      "2016-07-21\n",
      "2016-07-22\n",
      "2016-07-23\n",
      "2016-07-24\n",
      "2016-07-25\n",
      "2016-07-26\n",
      "2016-07-27\n",
      "2016-07-28\n",
      "2016-07-29\n",
      "2016-07-30\n",
      "2016-07-31\n"
     ]
    }
   ],
   "source": [
    "daysJuly = np.arange('2016-07', '2016-08', dtype='datetime64[D]')\n",
    "for i in daysJuly:\n",
    "    print(i)"
   ]
  },
  {
   "cell_type": "markdown",
   "id": "252c43e2",
   "metadata": {},
   "source": [
    "#### 35. How to compute ((A+B)*(-A/2)) in place (without copy)? (★★☆)"
   ]
  },
  {
   "cell_type": "code",
   "execution_count": null,
   "id": "f06ff615",
   "metadata": {},
   "outputs": [],
   "source": []
  },
  {
   "cell_type": "markdown",
   "id": "486df8ea",
   "metadata": {},
   "source": [
    "#### 36. Extract the integer part of a random array of positive numbers using 4 different methods (★★☆)"
   ]
  },
  {
   "cell_type": "code",
   "execution_count": 40,
   "id": "34b4fa08",
   "metadata": {},
   "outputs": [
    {
     "name": "stdout",
     "output_type": "stream",
     "text": [
      "[[0. 0. 0.]\n",
      " [1. 6. 1.]\n",
      " [3. 0. 1.]]\n"
     ]
    }
   ],
   "source": [
    "A = np.random.rand(3,3)*np.random.randint(2,10,size=(3,3))\n",
    "A = A // np.ones((3,3), dtype=int)\n",
    "print(A)"
   ]
  },
  {
   "cell_type": "markdown",
   "id": "649e89f9",
   "metadata": {},
   "source": [
    "#### 37. Create a 5x5 matrix with row values ranging from 0 to 4 (★★☆)"
   ]
  },
  {
   "cell_type": "code",
   "execution_count": 3,
   "id": "663cc611",
   "metadata": {},
   "outputs": [
    {
     "name": "stdout",
     "output_type": "stream",
     "text": [
      "[[0. 1. 2. 3. 4.]\n",
      " [0. 1. 2. 3. 4.]\n",
      " [0. 1. 2. 3. 4.]\n",
      " [0. 1. 2. 3. 4.]\n",
      " [0. 1. 2. 3. 4.]]\n"
     ]
    }
   ],
   "source": [
    "A = np.zeros((5,5))\n",
    "A += np.arange(5)\n",
    "print(A)"
   ]
  },
  {
   "cell_type": "markdown",
   "id": "3421e17f",
   "metadata": {},
   "source": [
    "#### 38. Consider a generator function that generates 10 integers and use it to build an array (★☆☆)"
   ]
  },
  {
   "cell_type": "code",
   "execution_count": null,
   "id": "7336b8e4",
   "metadata": {},
   "outputs": [],
   "source": []
  },
  {
   "cell_type": "markdown",
   "id": "483dd554",
   "metadata": {},
   "source": [
    "#### 39. Create a vector of size 10 with values ranging from 0 to 1, both excluded (★★☆)"
   ]
  },
  {
   "cell_type": "code",
   "execution_count": 41,
   "id": "c89b93e7",
   "metadata": {},
   "outputs": [
    {
     "name": "stdout",
     "output_type": "stream",
     "text": [
      "[0.17898478 0.77913114 0.53478051 0.73531432 0.04766383 0.19929556\n",
      " 0.70954811 0.05121471 0.74491597 0.96835221]\n"
     ]
    }
   ],
   "source": [
    "A = np.random.rand(10)\n",
    "for i in A:\n",
    "    if i == 0.0:\n",
    "        i = 0.5\n",
    "print(A)"
   ]
  },
  {
   "cell_type": "markdown",
   "id": "2d07be1c",
   "metadata": {},
   "source": [
    "#### 40. Create a random vector of size 10 and sort it (★★☆)"
   ]
  },
  {
   "cell_type": "code",
   "execution_count": 9,
   "id": "4f7cb3ad",
   "metadata": {},
   "outputs": [
    {
     "name": "stdout",
     "output_type": "stream",
     "text": [
      "[0.01798229 0.0245289  0.02961431 0.05325749 0.09858947 0.25021468\n",
      " 0.40027256 0.49512214 0.56910076 0.979241  ]\n"
     ]
    }
   ],
   "source": [
    "A.sort()\n",
    "print(A)"
   ]
  },
  {
   "cell_type": "markdown",
   "id": "6415f02e",
   "metadata": {},
   "source": [
    "#### 41. How to sum a small array faster than np.sum? (★★☆)"
   ]
  },
  {
   "cell_type": "code",
   "execution_count": 12,
   "id": "bb0dd942",
   "metadata": {},
   "outputs": [
    {
     "name": "stdout",
     "output_type": "stream",
     "text": [
      "2.9179235869068734\n",
      "CPU times: user 158 µs, sys: 27 µs, total: 185 µs\n",
      "Wall time: 164 µs\n"
     ]
    }
   ],
   "source": [
    "%%time\n",
    "print(np.sum(A))"
   ]
  },
  {
   "cell_type": "code",
   "execution_count": 13,
   "id": "28e13ad3",
   "metadata": {},
   "outputs": [
    {
     "name": "stdout",
     "output_type": "stream",
     "text": [
      "2.9179235869068734\n",
      "CPU times: user 124 µs, sys: 21 µs, total: 145 µs\n",
      "Wall time: 115 µs\n"
     ]
    }
   ],
   "source": [
    "%%time\n",
    "print(np.add.reduce(A))"
   ]
  },
  {
   "cell_type": "markdown",
   "id": "fe043549",
   "metadata": {},
   "source": [
    "#### 42. Consider two random array A and B, check if they are equal (★★☆)"
   ]
  },
  {
   "cell_type": "code",
   "execution_count": null,
   "id": "3326a686",
   "metadata": {},
   "outputs": [],
   "source": []
  },
  {
   "cell_type": "markdown",
   "id": "cc08f71c",
   "metadata": {},
   "source": [
    "#### 43. Make an array immutable (read-only) (★★☆)"
   ]
  },
  {
   "cell_type": "code",
   "execution_count": 15,
   "id": "d5cc9dbe",
   "metadata": {},
   "outputs": [],
   "source": [
    "A.flags.writeable = False"
   ]
  },
  {
   "cell_type": "markdown",
   "id": "2002cb03",
   "metadata": {},
   "source": [
    "#### 44. Consider a random 10x2 matrix representing cartesian coordinates, convert them to polar coordinates (★★☆)"
   ]
  },
  {
   "cell_type": "code",
   "execution_count": 21,
   "id": "58be72bc",
   "metadata": {},
   "outputs": [
    {
     "name": "stdout",
     "output_type": "stream",
     "text": [
      "[[8.41208226 9.47980121]\n",
      " [7.96537068 4.94074448]\n",
      " [5.59776389 2.98172891]\n",
      " [8.20599361 0.15454919]\n",
      " [4.12711172 8.76328659]\n",
      " [4.51149325 1.27777691]\n",
      " [4.99194225 4.41984197]\n",
      " [6.33228753 5.97582723]\n",
      " [4.73860278 1.22021069]\n",
      " [2.35643139 7.77866836]]\n",
      "[[12.6739796   0.84500364]\n",
      " [ 9.37326443  0.55519654]\n",
      " [ 6.34237084  0.4894363 ]\n",
      " [ 8.20744885  0.01883147]\n",
      " [ 9.68649798  1.1306537 ]\n",
      " [ 4.68895353  0.27599863]\n",
      " [ 6.66742008  0.72468733]\n",
      " [ 8.70680059  0.75644485]\n",
      " [ 4.89318612  0.25202899]\n",
      " [ 8.12775802  1.27664899]]\n"
     ]
    }
   ],
   "source": [
    "X = np.random.rand(10,2)*10\n",
    "print(X)\n",
    "for i in X:\n",
    "    x = i[0]\n",
    "    y = i[1]\n",
    "    i[0] = np.sqrt(x**2 + y**2)\n",
    "    i[1] = np.arctan(y/x)\n",
    "print(X)"
   ]
  },
  {
   "cell_type": "markdown",
   "id": "b7109c9f",
   "metadata": {},
   "source": [
    "#### 45. Create random vector of size 10 and replace the maximum value by 0 (★★☆)"
   ]
  },
  {
   "cell_type": "code",
   "execution_count": 45,
   "id": "f79e79a7",
   "metadata": {},
   "outputs": [
    {
     "name": "stdout",
     "output_type": "stream",
     "text": [
      "[0.17898478 0.77913114 0.53478051 0.73531432 0.04766383 0.19929556\n",
      " 0.70954811 0.05121471 0.74491597 0.96835221] 0.9683522115749402\n"
     ]
    },
    {
     "data": {
      "text/plain": [
       "array([0.17898478, 0.77913114, 0.53478051, 0.73531432, 0.04766383,\n",
       "       0.19929556, 0.70954811, 0.05121471, 0.74491597, 0.        ])"
      ]
     },
     "execution_count": 45,
     "metadata": {},
     "output_type": "execute_result"
    }
   ],
   "source": [
    "print(A, np.amax(A))\n",
    "A.flags.writeable = True\n",
    "for i in range(len(A)):\n",
    "    if np.isclose(A[i],np.amax(A)):\n",
    "        A[i] = 0.0\n",
    "A"
   ]
  },
  {
   "cell_type": "markdown",
   "id": "7d3131b9",
   "metadata": {},
   "source": [
    "#### 46. Create a structured array with `x` and `y` coordinates covering the [0,1]x[0,1] area (★★☆)"
   ]
  },
  {
   "cell_type": "code",
   "execution_count": null,
   "id": "4f471afe",
   "metadata": {},
   "outputs": [],
   "source": []
  },
  {
   "cell_type": "markdown",
   "id": "7c8c1fc5",
   "metadata": {},
   "source": [
    "#### 47. Given two arrays, X and Y, construct the Cauchy matrix C (Cij =1/(xi - yj)) (★★☆)"
   ]
  },
  {
   "cell_type": "code",
   "execution_count": 48,
   "id": "8fac7d28",
   "metadata": {},
   "outputs": [
    {
     "name": "stdout",
     "output_type": "stream",
     "text": [
      "[[ 3.21935075 -2.54225346 -2.53754574]\n",
      " [10.2989712  -1.64778207 -1.64580302]\n",
      " [19.23832767 -1.53375673 -1.53204197]]\n"
     ]
    }
   ],
   "source": [
    "X = np.random.random(3)\n",
    "Y = np.random.random(3)\n",
    "C = np.zeros((3,3))\n",
    "\n",
    "for i in range(3):\n",
    "    for j in range(3):\n",
    "        C[i,j] = 1/(X[i]-Y[j])\n",
    "        \n",
    "print(C)"
   ]
  },
  {
   "cell_type": "markdown",
   "id": "5795b4bd",
   "metadata": {},
   "source": [
    "#### 48. Print the minimum and maximum representable value for each numpy scalar type (★★☆)"
   ]
  },
  {
   "cell_type": "code",
   "execution_count": null,
   "id": "b721f7ca",
   "metadata": {},
   "outputs": [],
   "source": []
  },
  {
   "cell_type": "markdown",
   "id": "fb24674c",
   "metadata": {},
   "source": [
    "#### 49. How to print all the values of an array? (★★☆)"
   ]
  },
  {
   "cell_type": "code",
   "execution_count": 46,
   "id": "c81f1456",
   "metadata": {},
   "outputs": [
    {
     "name": "stdout",
     "output_type": "stream",
     "text": [
      "0.17898478101306992\n",
      "0.7791311382318499\n",
      "0.5347805082168808\n",
      "0.7353143186827\n",
      "0.04766383291134424\n",
      "0.19929556211185973\n",
      "0.7095481107300047\n",
      "0.051214711418712255\n",
      "0.7449159719500913\n",
      "0.0\n"
     ]
    }
   ],
   "source": [
    "for i in A:\n",
    "    print(i)"
   ]
  },
  {
   "cell_type": "markdown",
   "id": "e6e1ae2f",
   "metadata": {},
   "source": [
    "#### 50. How to find the closest value (to a given scalar) in a vector? (★★☆)"
   ]
  },
  {
   "cell_type": "code",
   "execution_count": null,
   "id": "73dd91cc",
   "metadata": {},
   "outputs": [],
   "source": []
  },
  {
   "cell_type": "markdown",
   "id": "c01f0ecf",
   "metadata": {},
   "source": [
    "#### 51. Create a structured array representing a position (x,y) and a color (r,g,b) (★★☆)"
   ]
  },
  {
   "cell_type": "code",
   "execution_count": null,
   "id": "fb8017ca",
   "metadata": {},
   "outputs": [],
   "source": []
  },
  {
   "cell_type": "markdown",
   "id": "3b64a18b",
   "metadata": {},
   "source": [
    "#### 52. Consider a random vector with shape (100,2) representing coordinates, find point by point distances (★★☆)"
   ]
  },
  {
   "cell_type": "code",
   "execution_count": null,
   "id": "4b482822",
   "metadata": {},
   "outputs": [],
   "source": []
  },
  {
   "cell_type": "markdown",
   "id": "48413134",
   "metadata": {},
   "source": [
    "#### 53. How to convert a float (32 bits) array into an integer (32 bits) in place?"
   ]
  },
  {
   "cell_type": "code",
   "execution_count": null,
   "id": "5db64b6d",
   "metadata": {},
   "outputs": [],
   "source": []
  },
  {
   "cell_type": "markdown",
   "id": "0a532633",
   "metadata": {},
   "source": [
    "#### 54. How to read the following file? (★★☆)\n",
    "```\n",
    "1, 2, 3, 4, 5\n",
    "6,  ,  , 7, 8\n",
    " ,  , 9,10,11\n",
    "```"
   ]
  },
  {
   "cell_type": "code",
   "execution_count": null,
   "id": "8af4f753",
   "metadata": {},
   "outputs": [],
   "source": []
  },
  {
   "cell_type": "markdown",
   "id": "f98713a6",
   "metadata": {},
   "source": [
    "#### 55. What is the equivalent of enumerate for numpy arrays? (★★☆)"
   ]
  },
  {
   "cell_type": "code",
   "execution_count": null,
   "id": "64795f84",
   "metadata": {},
   "outputs": [],
   "source": []
  },
  {
   "cell_type": "markdown",
   "id": "1abc7cc8",
   "metadata": {},
   "source": [
    "#### 56. Generate a generic 2D Gaussian-like array (★★☆)"
   ]
  },
  {
   "cell_type": "code",
   "execution_count": 56,
   "id": "42e3a5bc",
   "metadata": {},
   "outputs": [
    {
     "data": {
      "text/plain": [
       "(array([ 0.,  0.,  0.,  0.,  0.,  0.,  0.,  0.,  0.,  0.,  1.,  0.,  1.,\n",
       "         0.,  0.,  1.,  0.,  2.,  2.,  0.,  3.,  6.,  2.,  6.,  8., 10.,\n",
       "         9., 13., 26., 28., 23., 28., 35., 26., 41., 44., 53., 49., 59.,\n",
       "        41., 40., 44., 55., 53., 39., 33., 37., 25., 29., 27., 17., 22.,\n",
       "        13.,  8.,  9., 11.,  5.,  7.,  0.,  1.,  1.,  3.,  1.,  1.,  2.,\n",
       "         0.,  0.,  0.,  0.,  0.,  0.,  0.,  0.,  0.,  0.,  0.,  0.,  0.,\n",
       "         0.,  0.]),\n",
       " array([-0.5   , -0.4875, -0.475 , -0.4625, -0.45  , -0.4375, -0.425 ,\n",
       "        -0.4125, -0.4   , -0.3875, -0.375 , -0.3625, -0.35  , -0.3375,\n",
       "        -0.325 , -0.3125, -0.3   , -0.2875, -0.275 , -0.2625, -0.25  ,\n",
       "        -0.2375, -0.225 , -0.2125, -0.2   , -0.1875, -0.175 , -0.1625,\n",
       "        -0.15  , -0.1375, -0.125 , -0.1125, -0.1   , -0.0875, -0.075 ,\n",
       "        -0.0625, -0.05  , -0.0375, -0.025 , -0.0125,  0.    ,  0.0125,\n",
       "         0.025 ,  0.0375,  0.05  ,  0.0625,  0.075 ,  0.0875,  0.1   ,\n",
       "         0.1125,  0.125 ,  0.1375,  0.15  ,  0.1625,  0.175 ,  0.1875,\n",
       "         0.2   ,  0.2125,  0.225 ,  0.2375,  0.25  ,  0.2625,  0.275 ,\n",
       "         0.2875,  0.3   ,  0.3125,  0.325 ,  0.3375,  0.35  ,  0.3625,\n",
       "         0.375 ,  0.3875,  0.4   ,  0.4125,  0.425 ,  0.4375,  0.45  ,\n",
       "         0.4625,  0.475 ,  0.4875,  0.5   ]),\n",
       " <BarContainer object of 80 artists>)"
      ]
     },
     "execution_count": 56,
     "metadata": {},
     "output_type": "execute_result"
    },
    {
     "data": {
      "image/png": "[encoded data removed]",
      "text/plain": [
       "<Figure size 432x288 with 1 Axes>"
      ]
     },
     "metadata": {
      "needs_background": "light"
     },
     "output_type": "display_data"
    }
   ],
   "source": [
    "G = np.random.normal(0,0.1,1000)\n",
    "from matplotlib import pyplot as plt\n",
    "plt.hist(G, 80,(-0.5,0.5))"
   ]
  },
  {
   "cell_type": "markdown",
   "id": "0cf413ee",
   "metadata": {},
   "source": [
    "#### 57. How to randomly place p elements in a 2D array? (★★☆)"
   ]
  },
  {
   "cell_type": "code",
   "execution_count": 92,
   "id": "dfc57e06",
   "metadata": {},
   "outputs": [
    {
     "name": "stdout",
     "output_type": "stream",
     "text": [
      "[[2. 0. 0. 2.]\n",
      " [3. 5. 3. 3.]\n",
      " [2. 0. 0. 3.]\n",
      " [0. 0. 1. 7.]]\n"
     ]
    }
   ],
   "source": [
    "P = np.random.randint(1,10,10)\n",
    "A = np.zeros((4,4))\n",
    "for i in P:\n",
    "    repeat = True\n",
    "    while repeat:\n",
    "        x = np.random.randint(0,4)\n",
    "        y = np.random.randint(0,4)\n",
    "        if not A[x,y]:\n",
    "            A[x,y] = i\n",
    "            repeat = False\n",
    "print(A)"
   ]
  },
  {
   "cell_type": "markdown",
   "id": "215b6acc",
   "metadata": {},
   "source": [
    "#### 58. Subtract the mean of each row of a matrix (★★☆)"
   ]
  },
  {
   "cell_type": "code",
   "execution_count": null,
   "id": "dd1adef4",
   "metadata": {},
   "outputs": [],
   "source": []
  },
  {
   "cell_type": "markdown",
   "id": "c0cf37e0",
   "metadata": {},
   "source": [
    "#### 59. How to sort an array by the nth column? (★★☆)"
   ]
  },
  {
   "cell_type": "code",
   "execution_count": 109,
   "id": "9336ca5f",
   "metadata": {},
   "outputs": [
    {
     "data": {
      "text/plain": [
       "array([array([2., 0., 0., 2.]), array([2., 0., 0., 3.]),\n",
       "       array([0., 0., 1., 7.]), array([3., 5., 3., 3.])], dtype=object)"
      ]
     },
     "execution_count": 109,
     "metadata": {},
     "output_type": "execute_result"
    }
   ],
   "source": [
    "n = 2 #3rd  oolumn\n",
    "B = np.argsort(A[:,2],0)\n",
    "B = B.astype(object)\n",
    "for i in range(len(B)):\n",
    "    B[i] = A[B[i]]\n",
    "B"
   ]
  },
  {
   "cell_type": "markdown",
   "id": "c17fb213",
   "metadata": {},
   "source": [
    "#### 60. How to tell if a given 2D array has null columns? (★★☆)"
   ]
  },
  {
   "cell_type": "code",
   "execution_count": null,
   "id": "7fdda78d",
   "metadata": {},
   "outputs": [],
   "source": []
  },
  {
   "cell_type": "markdown",
   "id": "8aaab886",
   "metadata": {},
   "source": [
    "#### 61. Find the nearest value from a given value in an array (★★☆)"
   ]
  },
  {
   "cell_type": "code",
   "execution_count": null,
   "id": "973f8079",
   "metadata": {},
   "outputs": [],
   "source": []
  },
  {
   "cell_type": "markdown",
   "id": "66a04e2e",
   "metadata": {},
   "source": [
    "#### 62. Considering two arrays with shape (1,3) and (3,1), how to compute their sum using an iterator? (★★☆)"
   ]
  },
  {
   "cell_type": "code",
   "execution_count": null,
   "id": "4b356632",
   "metadata": {},
   "outputs": [],
   "source": []
  },
  {
   "cell_type": "markdown",
   "id": "f4427f7f",
   "metadata": {},
   "source": [
    "#### 63. Create an array class that has a name attribute (★★☆)"
   ]
  },
  {
   "cell_type": "code",
   "execution_count": null,
   "id": "fe253212",
   "metadata": {},
   "outputs": [],
   "source": []
  },
  {
   "cell_type": "markdown",
   "id": "58be9dd4",
   "metadata": {},
   "source": [
    "#### 64. Consider a given vector, how to add 1 to each element indexed by a second vector (be careful with repeated indices)? (★★★)"
   ]
  },
  {
   "cell_type": "code",
   "execution_count": null,
   "id": "5c8bae42",
   "metadata": {},
   "outputs": [],
   "source": []
  },
  {
   "cell_type": "markdown",
   "id": "7348abd0",
   "metadata": {},
   "source": [
    "#### 65. How to accumulate elements of a vector (X) to an array (F) based on an index list (I)? (★★★)"
   ]
  },
  {
   "cell_type": "code",
   "execution_count": null,
   "id": "b3e33a5a",
   "metadata": {},
   "outputs": [],
   "source": []
  },
  {
   "cell_type": "markdown",
   "id": "538e651c",
   "metadata": {},
   "source": [
    "#### 66. Considering a (w,h,3) image of (dtype=ubyte), compute the number of unique colors (★★☆)"
   ]
  },
  {
   "cell_type": "code",
   "execution_count": null,
   "id": "57f2f02f",
   "metadata": {},
   "outputs": [],
   "source": []
  },
  {
   "cell_type": "markdown",
   "id": "33c986d9",
   "metadata": {},
   "source": [
    "#### 67. Considering a four dimensions array, how to get sum over the last two axis at once? (★★★)"
   ]
  },
  {
   "cell_type": "code",
   "execution_count": null,
   "id": "a99a50e2",
   "metadata": {},
   "outputs": [],
   "source": []
  },
  {
   "cell_type": "markdown",
   "id": "00eb27c4",
   "metadata": {},
   "source": [
    "#### 68. Considering a one-dimensional vector D, how to compute means of subsets of D using a vector S of same size describing subset  indices? (★★★)"
   ]
  },
  {
   "cell_type": "code",
   "execution_count": null,
   "id": "d48c5210",
   "metadata": {},
   "outputs": [],
   "source": []
  },
  {
   "cell_type": "markdown",
   "id": "928a1a15",
   "metadata": {},
   "source": [
    "#### 69. How to get the diagonal of a dot product? (★★★)"
   ]
  },
  {
   "cell_type": "code",
   "execution_count": null,
   "id": "ef2c9ddd",
   "metadata": {},
   "outputs": [],
   "source": []
  },
  {
   "cell_type": "markdown",
   "id": "5143f7f3",
   "metadata": {},
   "source": [
    "#### 70. Consider the vector [1, 2, 3, 4, 5], how to build a new vector with 3 consecutive zeros interleaved between each value? (★★★)"
   ]
  },
  {
   "cell_type": "code",
   "execution_count": 119,
   "id": "1d99a1c1",
   "metadata": {},
   "outputs": [
    {
     "data": {
      "text/plain": [
       "array([1, 0, 0, 0, 2, 0, 0, 0, 3, 0, 0, 0, 4, 0, 0, 0, 5])"
      ]
     },
     "execution_count": 119,
     "metadata": {},
     "output_type": "execute_result"
    }
   ],
   "source": [
    "A = [1,2,3,4,5]\n",
    "B = A[0]\n",
    "for i in range(1,5):\n",
    "    B = np.append(B,[0,0,0,A[i]])\n",
    "B"
   ]
  },
  {
   "cell_type": "markdown",
   "id": "f62551d8",
   "metadata": {},
   "source": [
    "#### 71. Consider an array of dimension (5,5,3), how to mulitply it by an array with dimensions (5,5)? (★★★)"
   ]
  },
  {
   "cell_type": "code",
   "execution_count": null,
   "id": "9ab241b7",
   "metadata": {},
   "outputs": [],
   "source": []
  },
  {
   "cell_type": "markdown",
   "id": "6896e326",
   "metadata": {},
   "source": [
    "#### 72. How to swap two rows of an array? (★★★)"
   ]
  },
  {
   "cell_type": "code",
   "execution_count": null,
   "id": "9e8fcba9",
   "metadata": {},
   "outputs": [],
   "source": []
  },
  {
   "cell_type": "markdown",
   "id": "aeaf4a7b",
   "metadata": {},
   "source": [
    "#### 73. Consider a set of 10 triplets describing 10 triangles (with shared vertices), find the set of unique line segments composing all the  triangles (★★★)"
   ]
  },
  {
   "cell_type": "code",
   "execution_count": null,
   "id": "39ef4234",
   "metadata": {},
   "outputs": [],
   "source": []
  },
  {
   "cell_type": "markdown",
   "id": "3d11451b",
   "metadata": {},
   "source": [
    "#### 74. Given a sorted array C that corresponds to a bincount, how to produce an array A such that np.bincount(A) == C? (★★★)"
   ]
  },
  {
   "cell_type": "code",
   "execution_count": null,
   "id": "a5563362",
   "metadata": {},
   "outputs": [],
   "source": []
  },
  {
   "cell_type": "markdown",
   "id": "a0a45995",
   "metadata": {},
   "source": [
    "#### 75. How to compute averages using a sliding window over an array? (★★★)"
   ]
  },
  {
   "cell_type": "code",
   "execution_count": null,
   "id": "116243d5",
   "metadata": {},
   "outputs": [],
   "source": []
  },
  {
   "cell_type": "markdown",
   "id": "7808578f",
   "metadata": {},
   "source": [
    "#### 76. Consider a one-dimensional array Z, build a two-dimensional array whose first row is (Z[0],Z[1],Z[2]) and each subsequent row is  shifted by 1 (last row should be (Z[-3],Z[-2],Z[-1]) (★★★)"
   ]
  },
  {
   "cell_type": "code",
   "execution_count": null,
   "id": "6b23ba6e",
   "metadata": {},
   "outputs": [],
   "source": []
  },
  {
   "cell_type": "markdown",
   "id": "8e83df46",
   "metadata": {},
   "source": [
    "#### 77. How to negate a boolean, or to change the sign of a float inplace? (★★★)"
   ]
  },
  {
   "cell_type": "code",
   "execution_count": null,
   "id": "f73127b7",
   "metadata": {},
   "outputs": [],
   "source": []
  },
  {
   "cell_type": "markdown",
   "id": "e67ff31c",
   "metadata": {},
   "source": [
    "#### 78. Consider 2 sets of points P0,P1 describing lines (2d) and a point p, how to compute distance from p to each line i (P0[i],P1[i])? (★★★)"
   ]
  },
  {
   "cell_type": "code",
   "execution_count": null,
   "id": "89d75b76",
   "metadata": {},
   "outputs": [],
   "source": []
  },
  {
   "cell_type": "markdown",
   "id": "ad8821b1",
   "metadata": {},
   "source": [
    "#### 79. Consider 2 sets of points P0,P1 describing lines (2d) and a set of points P, how to compute distance from each point j (P[j]) to each line i (P0[i],P1[i])? (★★★)"
   ]
  },
  {
   "cell_type": "code",
   "execution_count": null,
   "id": "775feca0",
   "metadata": {},
   "outputs": [],
   "source": []
  },
  {
   "cell_type": "markdown",
   "id": "a0c8cbf5",
   "metadata": {},
   "source": [
    "#### 80. Consider an arbitrary array, write a function that extract a subpart with a fixed shape and centered on a given element (pad with a `fill` value when necessary) (★★★)"
   ]
  },
  {
   "cell_type": "code",
   "execution_count": null,
   "id": "381fd926",
   "metadata": {},
   "outputs": [],
   "source": []
  },
  {
   "cell_type": "markdown",
   "id": "781fa236",
   "metadata": {},
   "source": [
    "#### 81. Consider an array Z = [1,2,3,4,5,6,7,8,9,10,11,12,13,14], how to generate an array R = [[1,2,3,4], [2,3,4,5], [3,4,5,6], ..., [11,12,13,14]]? (★★★)"
   ]
  },
  {
   "cell_type": "code",
   "execution_count": 70,
   "id": "8e84d3c2",
   "metadata": {},
   "outputs": [
    {
     "data": {
      "text/plain": [
       "array([[ 1,  2,  3,  4,  5,  6,  7],\n",
       "       [ 8,  9, 10, 11, 12, 13, 14]])"
      ]
     },
     "execution_count": 70,
     "metadata": {},
     "output_type": "execute_result"
    }
   ],
   "source": [
    "Z = [1,2,3,4,5,6,7,8,9,10,11,12,13,14]\n",
    "np.reshape(Z,(2,7))"
   ]
  },
  {
   "cell_type": "markdown",
   "id": "9c9bb0f3",
   "metadata": {},
   "source": [
    "#### 82. Compute a matrix rank (★★★)"
   ]
  },
  {
   "cell_type": "code",
   "execution_count": null,
   "id": "b75ef318",
   "metadata": {},
   "outputs": [],
   "source": []
  },
  {
   "cell_type": "markdown",
   "id": "7d8dc135",
   "metadata": {},
   "source": [
    "#### 83. How to find the most frequent value in an array?"
   ]
  },
  {
   "cell_type": "code",
   "execution_count": 132,
   "id": "3978a7a2",
   "metadata": {},
   "outputs": [
    {
     "name": "stdout",
     "output_type": "stream",
     "text": [
      "[2 8 3 6 3 3 0 8 7 2 8 5 1 2 1 1 3 6 8 2 1 1 7 8 1 2 9 2 1 2 9 1 8 3 3 2 7\n",
      " 0 8 0 2 8 3 5 2 2 1 9 1 6]\n",
      "[ 3. 10. 11.  7.  2.  3.  3.  8.  3.] 2\n"
     ]
    }
   ],
   "source": [
    "A = np.random.randint(0,10,50)\n",
    "print(A)\n",
    "B = np.unique(A)\n",
    "C = np.zeros(len(B))\n",
    "for i in range(len(B)):\n",
    "    for j in A:\n",
    "        if B[i]==j:\n",
    "            C[i]+=1\n",
    "print(C, B[np.argmax(C)])"
   ]
  },
  {
   "cell_type": "markdown",
   "id": "aa340126",
   "metadata": {},
   "source": [
    "#### 84. Extract all the contiguous 3x3 blocks from a random 10x10 matrix (★★★)"
   ]
  },
  {
   "cell_type": "code",
   "execution_count": 29,
   "id": "bf138783",
   "metadata": {},
   "outputs": [
    {
     "name": "stdout",
     "output_type": "stream",
     "text": [
      "[[4 5 9 1 4 9 1 7 0 9]\n",
      " [1 7 9 5 1 9 2 6 1 6]\n",
      " [5 4 1 2 5 3 3 1 3 9]\n",
      " [5 7 1 8 3 7 1 3 7 9]\n",
      " [9 9 1 2 6 4 3 1 2 5]\n",
      " [2 7 0 7 4 9 8 0 9 4]\n",
      " [8 9 9 3 8 5 9 2 0 4]\n",
      " [5 2 8 3 2 3 9 3 7 2]\n",
      " [8 8 7 3 4 3 4 9 2 9]\n",
      " [8 0 9 4 1 0 0 7 8 0]]\n",
      "\n",
      "[array([[4, 5, 9],\n",
      "       [1, 7, 9],\n",
      "       [5, 4, 1]]), array([[5, 9, 1],\n",
      "       [7, 9, 5],\n",
      "       [4, 1, 2]]), array([[9, 1, 4],\n",
      "       [9, 5, 1],\n",
      "       [1, 2, 5]]), array([[1, 4, 9],\n",
      "       [5, 1, 9],\n",
      "       [2, 5, 3]]), array([[4, 9, 1],\n",
      "       [1, 9, 2],\n",
      "       [5, 3, 3]]), array([[9, 1, 7],\n",
      "       [9, 2, 6],\n",
      "       [3, 3, 1]]), array([[1, 7, 0],\n",
      "       [2, 6, 1],\n",
      "       [3, 1, 3]]), array([[1, 7, 9],\n",
      "       [5, 4, 1],\n",
      "       [5, 7, 1]]), array([[7, 9, 5],\n",
      "       [4, 1, 2],\n",
      "       [7, 1, 8]]), array([[9, 5, 1],\n",
      "       [1, 2, 5],\n",
      "       [1, 8, 3]]), array([[5, 1, 9],\n",
      "       [2, 5, 3],\n",
      "       [8, 3, 7]]), array([[1, 9, 2],\n",
      "       [5, 3, 3],\n",
      "       [3, 7, 1]]), array([[9, 2, 6],\n",
      "       [3, 3, 1],\n",
      "       [7, 1, 3]]), array([[2, 6, 1],\n",
      "       [3, 1, 3],\n",
      "       [1, 3, 7]]), array([[5, 4, 1],\n",
      "       [5, 7, 1],\n",
      "       [9, 9, 1]]), array([[4, 1, 2],\n",
      "       [7, 1, 8],\n",
      "       [9, 1, 2]]), array([[1, 2, 5],\n",
      "       [1, 8, 3],\n",
      "       [1, 2, 6]]), array([[2, 5, 3],\n",
      "       [8, 3, 7],\n",
      "       [2, 6, 4]]), array([[5, 3, 3],\n",
      "       [3, 7, 1],\n",
      "       [6, 4, 3]]), array([[3, 3, 1],\n",
      "       [7, 1, 3],\n",
      "       [4, 3, 1]]), array([[3, 1, 3],\n",
      "       [1, 3, 7],\n",
      "       [3, 1, 2]]), array([[5, 7, 1],\n",
      "       [9, 9, 1],\n",
      "       [2, 7, 0]]), array([[7, 1, 8],\n",
      "       [9, 1, 2],\n",
      "       [7, 0, 7]]), array([[1, 8, 3],\n",
      "       [1, 2, 6],\n",
      "       [0, 7, 4]]), array([[8, 3, 7],\n",
      "       [2, 6, 4],\n",
      "       [7, 4, 9]]), array([[3, 7, 1],\n",
      "       [6, 4, 3],\n",
      "       [4, 9, 8]]), array([[7, 1, 3],\n",
      "       [4, 3, 1],\n",
      "       [9, 8, 0]]), array([[1, 3, 7],\n",
      "       [3, 1, 2],\n",
      "       [8, 0, 9]]), array([[9, 9, 1],\n",
      "       [2, 7, 0],\n",
      "       [8, 9, 9]]), array([[9, 1, 2],\n",
      "       [7, 0, 7],\n",
      "       [9, 9, 3]]), array([[1, 2, 6],\n",
      "       [0, 7, 4],\n",
      "       [9, 3, 8]]), array([[2, 6, 4],\n",
      "       [7, 4, 9],\n",
      "       [3, 8, 5]]), array([[6, 4, 3],\n",
      "       [4, 9, 8],\n",
      "       [8, 5, 9]]), array([[4, 3, 1],\n",
      "       [9, 8, 0],\n",
      "       [5, 9, 2]]), array([[3, 1, 2],\n",
      "       [8, 0, 9],\n",
      "       [9, 2, 0]]), array([[2, 7, 0],\n",
      "       [8, 9, 9],\n",
      "       [5, 2, 8]]), array([[7, 0, 7],\n",
      "       [9, 9, 3],\n",
      "       [2, 8, 3]]), array([[0, 7, 4],\n",
      "       [9, 3, 8],\n",
      "       [8, 3, 2]]), array([[7, 4, 9],\n",
      "       [3, 8, 5],\n",
      "       [3, 2, 3]]), array([[4, 9, 8],\n",
      "       [8, 5, 9],\n",
      "       [2, 3, 9]]), array([[9, 8, 0],\n",
      "       [5, 9, 2],\n",
      "       [3, 9, 3]]), array([[8, 0, 9],\n",
      "       [9, 2, 0],\n",
      "       [9, 3, 7]]), array([[8, 9, 9],\n",
      "       [5, 2, 8],\n",
      "       [8, 8, 7]]), array([[9, 9, 3],\n",
      "       [2, 8, 3],\n",
      "       [8, 7, 3]]), array([[9, 3, 8],\n",
      "       [8, 3, 2],\n",
      "       [7, 3, 4]]), array([[3, 8, 5],\n",
      "       [3, 2, 3],\n",
      "       [3, 4, 3]]), array([[8, 5, 9],\n",
      "       [2, 3, 9],\n",
      "       [4, 3, 4]]), array([[5, 9, 2],\n",
      "       [3, 9, 3],\n",
      "       [3, 4, 9]]), array([[9, 2, 0],\n",
      "       [9, 3, 7],\n",
      "       [4, 9, 2]])]\n"
     ]
    }
   ],
   "source": [
    "A = np.random.randint(0,10,(10,10))\n",
    "B = []\n",
    "for i in range(10-3):\n",
    "    j = i+3\n",
    "    for k in range(10-3):\n",
    "        l = k+3\n",
    "        B.append(A[i:j,k:l])\n",
    "print(A,B, sep='\\n\\n')"
   ]
  },
  {
   "cell_type": "markdown",
   "id": "6b6d2c84",
   "metadata": {},
   "source": [
    "#### 85. Create a 2D array subclass such that Z[i,j] == Z[j,i] (★★★)"
   ]
  },
  {
   "cell_type": "code",
   "execution_count": null,
   "id": "155e16ce",
   "metadata": {},
   "outputs": [],
   "source": []
  },
  {
   "cell_type": "markdown",
   "id": "7be0fe36",
   "metadata": {},
   "source": [
    "#### 86. Consider a set of p matrices wich shape (n,n) and a set of p vectors with shape (n,1). How to compute the sum of of the p matrix products at once? (result has shape (n,1)) (★★★)"
   ]
  },
  {
   "cell_type": "code",
   "execution_count": 15,
   "id": "ea732c23",
   "metadata": {},
   "outputs": [
    {
     "name": "stdout",
     "output_type": "stream",
     "text": [
      "[4239. 3905. 3032.]\n"
     ]
    }
   ],
   "source": [
    "p = 10\n",
    "n = 3\n",
    "A = [np.random.randint(0,10,(n,n)) for i in range(p)]\n",
    "B = [np.random.randint(20,40,n) for i in range(p)]\n",
    "\n",
    "sum = np.zeros(3)\n",
    "for i in range(p):\n",
    "    sum += np.matmul(A[i],B[i])\n",
    "    \n",
    "print(sum)"
   ]
  },
  {
   "cell_type": "markdown",
   "id": "a840a88f",
   "metadata": {},
   "source": [
    "#### 87. Consider a 16x16 array, how to get the block-sum (block size is 4x4)? (★★★)"
   ]
  },
  {
   "cell_type": "code",
   "execution_count": null,
   "id": "6e0c1cbe",
   "metadata": {},
   "outputs": [],
   "source": []
  },
  {
   "cell_type": "markdown",
   "id": "c2bd7385",
   "metadata": {},
   "source": [
    "#### 88. How to implement the Game of Life using numpy arrays? (★★★)"
   ]
  },
  {
   "cell_type": "code",
   "execution_count": null,
   "id": "aea7d805",
   "metadata": {},
   "outputs": [],
   "source": []
  },
  {
   "cell_type": "markdown",
   "id": "4c70397b",
   "metadata": {},
   "source": [
    "#### 89. How to get the n largest values of an array (★★★)"
   ]
  },
  {
   "cell_type": "code",
   "execution_count": 13,
   "id": "16371718",
   "metadata": {},
   "outputs": [
    {
     "name": "stdout",
     "output_type": "stream",
     "text": [
      "[99. 98. 91. 85. 84.]\n"
     ]
    }
   ],
   "source": [
    "A = np.random.randint(0,100,20)\n",
    "n = 5\n",
    "B = np.zeros(n)\n",
    "for i in range(n):\n",
    "    B[i] = np.amax(A)\n",
    "    arg = np.argmax(A)\n",
    "    A = np.delete(A,arg)\n",
    "print(B)"
   ]
  },
  {
   "cell_type": "markdown",
   "id": "15ba193c",
   "metadata": {},
   "source": [
    "#### 90. Given an arbitrary number of vectors, build the cartesian product (every combinations of every item) (★★★)"
   ]
  },
  {
   "cell_type": "code",
   "execution_count": null,
   "id": "c9c468d4",
   "metadata": {},
   "outputs": [],
   "source": []
  },
  {
   "cell_type": "markdown",
   "id": "ec828405",
   "metadata": {},
   "source": [
    "#### 91. How to create a record array from a regular array? (★★★)"
   ]
  },
  {
   "cell_type": "code",
   "execution_count": null,
   "id": "84eb5fba",
   "metadata": {},
   "outputs": [],
   "source": []
  },
  {
   "cell_type": "markdown",
   "id": "d94352b6",
   "metadata": {},
   "source": [
    "#### 92. Consider a large vector Z, compute Z to the power of 3 using 3 different methods (★★★)"
   ]
  },
  {
   "cell_type": "code",
   "execution_count": 11,
   "id": "301ba8a8",
   "metadata": {},
   "outputs": [
    {
     "name": "stdout",
     "output_type": "stream",
     "text": [
      "[343 343 512 512   0  27 512 343 125 729   1   8  64 729   1 216 729   0\n",
      "   0   1 512 729 343 729  64   0  27 729 343 729   8 512  27 216 729   0\n",
      " 729  64 343 343   0 216 512   0 343 729  27 216 512  64 343 125   0 729\n",
      "   8 343 729  27  27 216 512   0   8 216 216 512   0  64 125  64 343 343\n",
      " 729  64 216 512   1  27 512 216  64 729  27 343   1  64 216  64   8 216\n",
      "   1 512  27 729  64   8 216   1   0  64]\n",
      "[343 343 512 512   0  27 512 343 125 729   1   8  64 729   1 216 729   0\n",
      "   0   1 512 729 343 729  64   0  27 729 343 729   8 512  27 216 729   0\n",
      " 729  64 343 343   0 216 512   0 343 729  27 216 512  64 343 125   0 729\n",
      "   8 343 729  27  27 216 512   0   8 216 216 512   0  64 125  64 343 343\n",
      " 729  64 216 512   1  27 512 216  64 729  27 343   1  64 216  64   8 216\n",
      "   1 512  27 729  64   8 216   1   0  64]\n",
      "[343, 343, 512, 512, 0, 27, 512, 343, 125, 729, 1, 8, 64, 729, 1, 216, 729, 0, 0, 1, 512, 729, 343, 729, 64, 0, 27, 729, 343, 729, 8, 512, 27, 216, 729, 0, 729, 64, 343, 343, 0, 216, 512, 0, 343, 729, 27, 216, 512, 64, 343, 125, 0, 729, 8, 343, 729, 27, 27, 216, 512, 0, 8, 216, 216, 512, 0, 64, 125, 64, 343, 343, 729, 64, 216, 512, 1, 27, 512, 216, 64, 729, 27, 343, 1, 64, 216, 64, 8, 216, 1, 512, 27, 729, 64, 8, 216, 1, 0, 64]\n"
     ]
    }
   ],
   "source": [
    "Z = np.random.randint(0,10,100)\n",
    "print(Z**3)\n",
    "print(Z*Z*Z)\n",
    "print([i**3 for i in Z])"
   ]
  },
  {
   "cell_type": "markdown",
   "id": "7c3a9e32",
   "metadata": {},
   "source": [
    "#### 93. Consider two arrays A and B of shape (8,3) and (2,2). How to find rows of A that contain elements of each row of B regardless of the order of the elements in B? (★★★)"
   ]
  },
  {
   "cell_type": "code",
   "execution_count": null,
   "id": "777376e3",
   "metadata": {},
   "outputs": [],
   "source": []
  },
  {
   "cell_type": "markdown",
   "id": "da9d5eeb",
   "metadata": {},
   "source": [
    "#### 94. Considering a 10x3 matrix, extract rows with unequal values (e.g. [2,2,3]) (★★★)"
   ]
  },
  {
   "cell_type": "code",
   "execution_count": null,
   "id": "67dbea5c",
   "metadata": {},
   "outputs": [],
   "source": []
  },
  {
   "cell_type": "markdown",
   "id": "f7b65fd5",
   "metadata": {},
   "source": [
    "#### 95. Convert a vector of ints into a matrix binary representation (★★★)"
   ]
  },
  {
   "cell_type": "code",
   "execution_count": null,
   "id": "127294ed",
   "metadata": {},
   "outputs": [],
   "source": []
  },
  {
   "cell_type": "markdown",
   "id": "2784c996",
   "metadata": {},
   "source": [
    "#### 96. Given a two dimensional array, how to extract unique rows? (★★★)"
   ]
  },
  {
   "cell_type": "code",
   "execution_count": 7,
   "id": "f030595f",
   "metadata": {},
   "outputs": [
    {
     "name": "stdout",
     "output_type": "stream",
     "text": [
      "[[0 2]\n",
      " [3 1]\n",
      " [1 1]\n",
      " [0 3]\n",
      " [0 1]\n",
      " [4 0]\n",
      " [4 4]\n",
      " [4 0]\n",
      " [2 2]\n",
      " [1 1]]\n",
      "[[0 1]\n",
      " [0 2]\n",
      " [0 3]\n",
      " [1 1]\n",
      " [2 2]\n",
      " [3 1]\n",
      " [4 0]\n",
      " [4 4]]\n"
     ]
    }
   ],
   "source": [
    "A = np.random.randint(0,5,(10,2))\n",
    "B = np.unique(A,axis=0)\n",
    "print(A)\n",
    "print(B)"
   ]
  },
  {
   "cell_type": "markdown",
   "id": "71a7574c",
   "metadata": {},
   "source": [
    "#### 97. Considering 2 vectors A & B, write the einsum equivalent of inner, outer, sum, and mul function (★★★)"
   ]
  },
  {
   "cell_type": "code",
   "execution_count": null,
   "id": "721c4e1a",
   "metadata": {},
   "outputs": [],
   "source": []
  },
  {
   "cell_type": "markdown",
   "id": "30f06441",
   "metadata": {},
   "source": [
    "#### 98. Considering a path described by two vectors (X,Y), how to sample it using equidistant samples (★★★)?"
   ]
  },
  {
   "cell_type": "code",
   "execution_count": null,
   "id": "fb41c022",
   "metadata": {},
   "outputs": [],
   "source": []
  },
  {
   "cell_type": "markdown",
   "id": "e5737276",
   "metadata": {},
   "source": [
    "#### 99. Given an integer n and a 2D array X, select from X the rows which can be interpreted as draws from a multinomial distribution with n degrees, i.e., the rows which only contain integers and which sum to n. (★★★)"
   ]
  },
  {
   "cell_type": "code",
   "execution_count": null,
   "id": "68c333b0",
   "metadata": {},
   "outputs": [],
   "source": []
  },
  {
   "cell_type": "markdown",
   "id": "5882e36d",
   "metadata": {},
   "source": [
    "#### 100. Compute bootstrapped 95% confidence intervals for the mean of a 1D array X (i.e., resample the elements of an array with replacement N times, compute the mean of each sample, and then compute percentiles over the means). (★★★)"
   ]
  },
  {
   "cell_type": "code",
   "execution_count": null,
   "id": "d1b566e5",
   "metadata": {},
   "outputs": [],
   "source": []
  },
  {
   "cell_type": "code",
   "execution_count": null,
   "id": "e0bf5227",
   "metadata": {},
   "outputs": [],
   "source": []
  }
 ],
 "metadata": {
  "kernelspec": {
   "display_name": "Python 3 (ipykernel)",
   "language": "python",
   "name": "python3"
  },
  "language_info": {
   "codemirror_mode": {
    "name": "ipython",
    "version": 3
   },
   "file_extension": ".py",
   "mimetype": "text/x-python",
   "name": "python",
   "nbconvert_exporter": "python",
   "pygments_lexer": "ipython3",
   "version": "3.9.6"
  }
 },
 "nbformat": 4,
 "nbformat_minor": 5
}
