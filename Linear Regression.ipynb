{
 "cells": [
  {
   "cell_type": "code",
   "execution_count": 1,
   "metadata": {},
   "outputs": [],
   "source": [
    "import numpy as np\n",
    "import matplotlib.pyplot as plt\n",
    "from sklearn.linear_model import LinearRegression"
   ]
  },
  {
   "cell_type": "code",
   "execution_count": 2,
   "metadata": {},
   "outputs": [],
   "source": [
    "def kindaTwice(x):\n",
    "    slope = 2 + (np.random.random()-0.50)/2\n",
    "    intercept = 300 + (np.random.random()*100)\n",
    "    return int(slope*x + intercept)"
   ]
  },
  {
   "cell_type": "code",
   "execution_count": 3,
   "metadata": {},
   "outputs": [
    {
     "data": {
      "text/plain": [
       "array([510, 210, 424, 626, 642, 580, 667, 753, 830, 992, 174, 710, 562,\n",
       "       229, 542, 656, 892, 157, 678, 368, 156, 764, 392, 578, 695, 784,\n",
       "       957, 110, 590, 866, 490, 256, 114, 918, 624, 112,   0,  88, 805,\n",
       "       572, 964, 411, 935, 565, 490, 807, 881,  53, 422, 680, 287, 764,\n",
       "       548, 997,  57, 847, 447, 684, 601, 813,  85, 626, 921, 139, 437,\n",
       "       863, 873,  37, 279,  33, 132,  91,  99, 777, 540, 906, 394,  20,\n",
       "       199, 948, 565, 484, 136, 412, 231, 647,  74, 381, 356, 167, 237,\n",
       "        65, 985, 329, 284, 466, 654, 407, 612, 215, 576,  93, 483, 763,\n",
       "       450, 318, 220, 473, 362, 373, 420, 587, 133, 162, 486, 164, 548,\n",
       "       961, 759, 859, 456, 566, 468, 809, 663, 325, 147, 178, 505, 267,\n",
       "       368, 861, 846,  13, 377, 756, 675,  19, 969, 496, 918, 142, 811,\n",
       "       213, 985, 644, 389, 385, 563, 953, 976, 228, 497, 134, 482, 768,\n",
       "        17, 449, 982, 466, 991,  18, 109, 179, 530, 474, 458, 528,  39,\n",
       "       577,  36,  20, 995, 277, 215, 515, 530, 278, 943, 975,  56, 161,\n",
       "       246, 706,  78, 124, 555, 745, 350, 160, 553, 678, 821, 222,  71,\n",
       "       121, 370, 941, 670, 573])"
      ]
     },
     "execution_count": 3,
     "metadata": {},
     "output_type": "execute_result"
    }
   ],
   "source": [
    "X = np.random.randint(0,1000, size = 200)\n",
    "X"
   ]
  },
  {
   "cell_type": "code",
   "execution_count": 4,
   "metadata": {},
   "outputs": [
    {
     "data": {
      "text/plain": [
       "[1288,\n",
       " 732,\n",
       " 1128,\n",
       " 1635,\n",
       " 1616,\n",
       " 1582,\n",
       " 1579,\n",
       " 2037,\n",
       " 2060,\n",
       " 2280,\n",
       " 759,\n",
       " 1633,\n",
       " 1558,\n",
       " 718,\n",
       " 1344,\n",
       " 1667,\n",
       " 2281,\n",
       " 617,\n",
       " 1703,\n",
       " 1061,\n",
       " 723,\n",
       " 1734,\n",
       " 1212,\n",
       " 1520,\n",
       " 1699,\n",
       " 1808,\n",
       " 2506,\n",
       " 574,\n",
       " 1639,\n",
       " 2074,\n",
       " 1290,\n",
       " 862,\n",
       " 587,\n",
       " 2423,\n",
       " 1529,\n",
       " 584,\n",
       " 349,\n",
       " 501,\n",
       " 1938,\n",
       " 1575,\n",
       " 2144,\n",
       " 1255,\n",
       " 2091,\n",
       " 1331,\n",
       " 1223,\n",
       " 1885,\n",
       " 2250,\n",
       " 483,\n",
       " 1243,\n",
       " 1606,\n",
       " 933,\n",
       " 1770,\n",
       " 1302,\n",
       " 2218,\n",
       " 522,\n",
       " 2169,\n",
       " 1339,\n",
       " 1566,\n",
       " 1532,\n",
       " 1838,\n",
       " 471,\n",
       " 1694,\n",
       " 2090,\n",
       " 608,\n",
       " 1348,\n",
       " 2105,\n",
       " 1951,\n",
       " 468,\n",
       " 928,\n",
       " 376,\n",
       " 631,\n",
       " 477,\n",
       " 569,\n",
       " 2023,\n",
       " 1338,\n",
       " 1976,\n",
       " 1018,\n",
       " 434,\n",
       " 737,\n",
       " 2340,\n",
       " 1573,\n",
       " 1223,\n",
       " 672,\n",
       " 1069,\n",
       " 833,\n",
       " 1597,\n",
       " 532,\n",
       " 1177,\n",
       " 1034,\n",
       " 722,\n",
       " 794,\n",
       " 486,\n",
       " 2369,\n",
       " 916,\n",
       " 887,\n",
       " 1270,\n",
       " 1517,\n",
       " 1228,\n",
       " 1602,\n",
       " 741,\n",
       " 1527,\n",
       " 474,\n",
       " 1309,\n",
       " 1679,\n",
       " 1149,\n",
       " 972,\n",
       " 785,\n",
       " 1286,\n",
       " 1174,\n",
       " 1131,\n",
       " 1222,\n",
       " 1517,\n",
       " 674,\n",
       " 610,\n",
       " 1399,\n",
       " 655,\n",
       " 1353,\n",
       " 2479,\n",
       " 1966,\n",
       " 1918,\n",
       " 1321,\n",
       " 1636,\n",
       " 1361,\n",
       " 1991,\n",
       " 1663,\n",
       " 1089,\n",
       " 610,\n",
       " 731,\n",
       " 1462,\n",
       " 912,\n",
       " 1047,\n",
       " 1944,\n",
       " 1984,\n",
       " 362,\n",
       " 1122,\n",
       " 2015,\n",
       " 1822,\n",
       " 395,\n",
       " 2478,\n",
       " 1276,\n",
       " 2164,\n",
       " 678,\n",
       " 2132,\n",
       " 765,\n",
       " 2191,\n",
       " 1613,\n",
       " 1168,\n",
       " 1094,\n",
       " 1382,\n",
       " 2253,\n",
       " 2407,\n",
       " 800,\n",
       " 1295,\n",
       " 627,\n",
       " 1407,\n",
       " 1947,\n",
       " 358,\n",
       " 1198,\n",
       " 2390,\n",
       " 1274,\n",
       " 2556,\n",
       " 360,\n",
       " 532,\n",
       " 760,\n",
       " 1397,\n",
       " 1380,\n",
       " 1227,\n",
       " 1363,\n",
       " 465,\n",
       " 1633,\n",
       " 375,\n",
       " 408,\n",
       " 2420,\n",
       " 950,\n",
       " 813,\n",
       " 1333,\n",
       " 1363,\n",
       " 896,\n",
       " 2279,\n",
       " 2070,\n",
       " 453,\n",
       " 676,\n",
       " 839,\n",
       " 1953,\n",
       " 488,\n",
       " 585,\n",
       " 1542,\n",
       " 1806,\n",
       " 979,\n",
       " 597,\n",
       " 1303,\n",
       " 1778,\n",
       " 2006,\n",
       " 737,\n",
       " 487,\n",
       " 598,\n",
       " 1162,\n",
       " 2297,\n",
       " 1713,\n",
       " 1574]"
      ]
     },
     "execution_count": 4,
     "metadata": {},
     "output_type": "execute_result"
    }
   ],
   "source": [
    "Y = list(map(kindaTwice,X))\n",
    "Y"
   ]
  },
  {
   "cell_type": "code",
   "execution_count": 5,
   "metadata": {
    "scrolled": false
   },
   "outputs": [
    {
     "data": {
      "text/plain": [
       "[<matplotlib.lines.Line2D at 0x7f1a361714f0>]"
      ]
     },
     "execution_count": 5,
     "metadata": {},
     "output_type": "execute_result"
    },
    {
     "data": {
      "image/png": "[encoded data removed]",
      "text/plain": [
       "<Figure size 432x288 with 1 Axes>"
      ]
     },
     "metadata": {
      "needs_background": "light"
     },
     "output_type": "display_data"
    }
   ],
   "source": [
    "plt.plot(X,Y,'.',color='green')"
   ]
  },
  {
   "cell_type": "code",
   "execution_count": 6,
   "metadata": {},
   "outputs": [],
   "source": [
    "reg = LinearRegression().fit(X.reshape(-1,1),Y)"
   ]
  },
  {
   "cell_type": "code",
   "execution_count": 7,
   "metadata": {},
   "outputs": [
    {
     "data": {
      "text/plain": [
       "array([2.01233566])"
      ]
     },
     "execution_count": 7,
     "metadata": {},
     "output_type": "execute_result"
    }
   ],
   "source": [
    "reg.coef_"
   ]
  },
  {
   "cell_type": "code",
   "execution_count": 8,
   "metadata": {},
   "outputs": [
    {
     "data": {
      "text/plain": [
       "344.9268582201332"
      ]
     },
     "execution_count": 8,
     "metadata": {},
     "output_type": "execute_result"
    }
   ],
   "source": [
    "reg.intercept_"
   ]
  },
  {
   "cell_type": "code",
   "execution_count": 9,
   "metadata": {},
   "outputs": [
    {
     "data": {
      "text/plain": [
       "[<matplotlib.lines.Line2D at 0x7f1a360d1a90>]"
      ]
     },
     "execution_count": 9,
     "metadata": {},
     "output_type": "execute_result"
    },
    {
     "data": {
      "image/png": "[encoded data removed]",
      "text/plain": [
       "<Figure size 432x288 with 1 Axes>"
      ]
     },
     "metadata": {
      "needs_background": "light"
     },
     "output_type": "display_data"
    }
   ],
   "source": [
    "x = np.linspace(0,1000,200)\n",
    "y = reg.coef_[0]*x + reg.intercept_\n",
    "plt.plot(X,Y,'.',color='green')\n",
    "plt.plot(x,y,'-', color = 'red')"
   ]
  },
  {
   "cell_type": "code",
   "execution_count": null,
   "metadata": {},
   "outputs": [],
   "source": []
  },
  {
   "cell_type": "code",
   "execution_count": null,
   "metadata": {},
   "outputs": [],
   "source": []
  }
 ],
 "metadata": {
  "kernelspec": {
   "display_name": "Python 3 (ipykernel)",
   "language": "python",
   "name": "python3"
  },
  "language_info": {
   "codemirror_mode": {
    "name": "ipython",
    "version": 3
   },
   "file_extension": ".py",
   "mimetype": "text/x-python",
   "name": "python",
   "nbconvert_exporter": "python",
   "pygments_lexer": "ipython3",
   "version": "3.9.6"
  }
 },
 "nbformat": 4,
 "nbformat_minor": 4
}
