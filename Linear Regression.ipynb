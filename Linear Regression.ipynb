{
 "cells": [
  {
   "cell_type": "code",
   "execution_count": 29,
   "metadata": {},
   "outputs": [],
   "source": [
    "import numpy as np\n",
    "import matplotlib.pyplot as plt\n",
    "from sklearn.linear_model import LinearRegression"
   ]
  },
  {
   "cell_type": "code",
   "execution_count": 47,
   "metadata": {},
   "outputs": [],
   "source": [
    "def kindaTwice(x):\n",
    "    slope = 2 + (np.random.random()-0.50)/2\n",
    "    intercept = 300 + (np.random.random()*100)\n",
    "    return int(slope*x + intercept)"
   ]
  },
  {
   "cell_type": "code",
   "execution_count": 65,
   "metadata": {},
   "outputs": [
    {
     "data": {
      "text/plain": [
       "array([317, 315, 886, 245, 834, 346, 538, 973, 264, 379, 183, 864, 720,\n",
       "       658, 529, 797,   2, 437, 105,   9, 279, 642, 365, 494, 603, 546,\n",
       "       562, 216, 939, 784, 879, 836, 160, 517, 445,  45, 520, 416, 562,\n",
       "       188, 425, 665, 459, 805, 740, 254, 831, 278, 351, 929, 211, 945,\n",
       "       317, 380, 968, 416,  37, 736, 630,  77, 166, 388, 829, 105, 874,\n",
       "       525, 382, 335, 411, 996, 947, 400, 221, 509, 420, 202, 899, 918,\n",
       "       292, 624, 438, 951, 572, 525, 356, 550, 657, 245, 763, 430, 952,\n",
       "       277, 986, 861, 592,  90, 549, 575, 173, 302, 702, 494, 707, 382,\n",
       "       111, 729, 296,  69, 412, 792,  57, 331, 978, 249, 886, 854, 594,\n",
       "       418, 675, 493, 524, 691, 967,  77, 152, 216, 135, 458, 451, 473,\n",
       "       651, 987, 287, 661, 404, 736, 319, 630, 544, 839, 799, 336, 146,\n",
       "       939, 519, 351, 582, 657, 673, 183, 590, 199, 936, 236,  72, 660,\n",
       "       691, 254, 366, 725, 659, 984, 262, 675, 410, 988, 186, 426, 709,\n",
       "       675, 545, 107, 101, 535, 531, 845, 901, 126, 730, 439, 220, 438,\n",
       "       805, 760, 820, 939, 926, 475, 464,  73, 360, 145, 150, 867, 696,\n",
       "       601, 411, 159, 907, 138])"
      ]
     },
     "execution_count": 65,
     "metadata": {},
     "output_type": "execute_result"
    }
   ],
   "source": [
    "X = np.random.randint(0,1000, size = 200)\n",
    "X"
   ]
  },
  {
   "cell_type": "code",
   "execution_count": 66,
   "metadata": {
    "collapsed": true
   },
   "outputs": [
    {
     "data": {
      "text/plain": [
       "[1098,\n",
       " 993,\n",
       " 2007,\n",
       " 800,\n",
       " 2028,\n",
       " 1095,\n",
       " 1461,\n",
       " 2228,\n",
       " 899,\n",
       " 1132,\n",
       " 754,\n",
       " 2000,\n",
       " 1670,\n",
       " 1705,\n",
       " 1535,\n",
       " 1871,\n",
       " 387,\n",
       " 1251,\n",
       " 538,\n",
       " 320,\n",
       " 946,\n",
       " 1600,\n",
       " 1005,\n",
       " 1402,\n",
       " 1559,\n",
       " 1352,\n",
       " 1493,\n",
       " 792,\n",
       " 2215,\n",
       " 1887,\n",
       " 1932,\n",
       " 1951,\n",
       " 675,\n",
       " 1449,\n",
       " 1288,\n",
       " 395,\n",
       " 1333,\n",
       " 1136,\n",
       " 1622,\n",
       " 725,\n",
       " 1130,\n",
       " 1867,\n",
       " 1163,\n",
       " 1764,\n",
       " 1866,\n",
       " 800,\n",
       " 1813,\n",
       " 915,\n",
       " 1120,\n",
       " 2037,\n",
       " 725,\n",
       " 2316,\n",
       " 910,\n",
       " 1097,\n",
       " 2377,\n",
       " 1161,\n",
       " 381,\n",
       " 1757,\n",
       " 1513,\n",
       " 554,\n",
       " 659,\n",
       " 1144,\n",
       " 1971,\n",
       " 519,\n",
       " 2022,\n",
       " 1446,\n",
       " 1180,\n",
       " 969,\n",
       " 1221,\n",
       " 2472,\n",
       " 2132,\n",
       " 1256,\n",
       " 744,\n",
       " 1272,\n",
       " 1100,\n",
       " 748,\n",
       " 2128,\n",
       " 2233,\n",
       " 971,\n",
       " 1444,\n",
       " 1265,\n",
       " 2281,\n",
       " 1324,\n",
       " 1474,\n",
       " 1167,\n",
       " 1359,\n",
       " 1730,\n",
       " 889,\n",
       " 1793,\n",
       " 1352,\n",
       " 2371,\n",
       " 904,\n",
       " 2543,\n",
       " 1879,\n",
       " 1681,\n",
       " 506,\n",
       " 1572,\n",
       " 1443,\n",
       " 627,\n",
       " 1046,\n",
       " 1951,\n",
       " 1347,\n",
       " 1729,\n",
       " 1183,\n",
       " 564,\n",
       " 1818,\n",
       " 883,\n",
       " 474,\n",
       " 1217,\n",
       " 1867,\n",
       " 428,\n",
       " 908,\n",
       " 2501,\n",
       " 827,\n",
       " 2301,\n",
       " 2038,\n",
       " 1435,\n",
       " 1193,\n",
       " 1758,\n",
       " 1479,\n",
       " 1495,\n",
       " 1601,\n",
       " 2345,\n",
       " 469,\n",
       " 591,\n",
       " 800,\n",
       " 642,\n",
       " 1324,\n",
       " 1318,\n",
       " 1352,\n",
       " 1789,\n",
       " 2133,\n",
       " 939,\n",
       " 1715,\n",
       " 1133,\n",
       " 1824,\n",
       " 932,\n",
       " 1645,\n",
       " 1318,\n",
       " 2155,\n",
       " 1818,\n",
       " 963,\n",
       " 609,\n",
       " 2192,\n",
       " 1237,\n",
       " 1122,\n",
       " 1429,\n",
       " 1539,\n",
       " 1807,\n",
       " 710,\n",
       " 1383,\n",
       " 685,\n",
       " 2074,\n",
       " 884,\n",
       " 516,\n",
       " 1623,\n",
       " 1607,\n",
       " 771,\n",
       " 1154,\n",
       " 1983,\n",
       " 1765,\n",
       " 2094,\n",
       " 839,\n",
       " 1838,\n",
       " 1173,\n",
       " 2330,\n",
       " 790,\n",
       " 1334,\n",
       " 1792,\n",
       " 1714,\n",
       " 1393,\n",
       " 583,\n",
       " 542,\n",
       " 1406,\n",
       " 1364,\n",
       " 1933,\n",
       " 2204,\n",
       " 644,\n",
       " 1664,\n",
       " 1168,\n",
       " 772,\n",
       " 1305,\n",
       " 1977,\n",
       " 1741,\n",
       " 1898,\n",
       " 2318,\n",
       " 2167,\n",
       " 1282,\n",
       " 1141,\n",
       " 489,\n",
       " 951,\n",
       " 622,\n",
       " 673,\n",
       " 1896,\n",
       " 1561,\n",
       " 1520,\n",
       " 1121,\n",
       " 720,\n",
       " 2008,\n",
       " 697]"
      ]
     },
     "execution_count": 66,
     "metadata": {},
     "output_type": "execute_result"
    }
   ],
   "source": [
    "Y = list(map(kindaTwice,X))\n",
    "Y"
   ]
  },
  {
   "cell_type": "code",
   "execution_count": 55,
   "metadata": {
    "scrolled": false
   },
   "outputs": [
    {
     "data": {
      "text/plain": [
       "[<matplotlib.lines.Line2D at 0x7fd23e20dbe0>]"
      ]
     },
     "execution_count": 55,
     "metadata": {},
     "output_type": "execute_result"
    },
    {
     "data": {
      "image/png": "[encoded data removed]",
      "text/plain": [
       "<Figure size 432x288 with 1 Axes>"
      ]
     },
     "metadata": {
      "needs_background": "light"
     },
     "output_type": "display_data"
    }
   ],
   "source": [
    "plt.plot(X,Y,'.',color='green')"
   ]
  },
  {
   "cell_type": "code",
   "execution_count": 61,
   "metadata": {},
   "outputs": [],
   "source": [
    "reg = LinearRegression().fit(X.reshape(-1,1),Y)"
   ]
  },
  {
   "cell_type": "code",
   "execution_count": 70,
   "metadata": {},
   "outputs": [
    {
     "data": {
      "text/plain": [
       "array([1.97213395])"
      ]
     },
     "execution_count": 70,
     "metadata": {},
     "output_type": "execute_result"
    }
   ],
   "source": [
    "reg.coef_"
   ]
  },
  {
   "cell_type": "code",
   "execution_count": 68,
   "metadata": {},
   "outputs": [
    {
     "data": {
      "text/plain": [
       "355.30312523473447"
      ]
     },
     "execution_count": 68,
     "metadata": {},
     "output_type": "execute_result"
    }
   ],
   "source": [
    "reg.intercept_"
   ]
  },
  {
   "cell_type": "code",
   "execution_count": 72,
   "metadata": {},
   "outputs": [
    {
     "data": {
      "text/plain": [
       "[<matplotlib.lines.Line2D at 0x7fd23e1105b0>]"
      ]
     },
     "execution_count": 72,
     "metadata": {},
     "output_type": "execute_result"
    },
    {
     "data": {
      "image/png": "[encoded data removed]",
      "text/plain": [
       "<Figure size 432x288 with 1 Axes>"
      ]
     },
     "metadata": {
      "needs_background": "light"
     },
     "output_type": "display_data"
    }
   ],
   "source": [
    "x = np.linspace(0,1000,200)\n",
    "y = reg.coef_[0]*x + reg.intercept_\n",
    "plt.plot(X,Y,'.',color='green')\n",
    "plt.plot(x,y,'-', color = 'red')"
   ]
  },
  {
   "cell_type": "code",
   "execution_count": null,
   "metadata": {},
   "outputs": [],
   "source": []
  }
 ],
 "metadata": {
  "kernelspec": {
   "display_name": "Python 3 (ipykernel)",
   "language": "python",
   "name": "python3"
  },
  "language_info": {
   "codemirror_mode": {
    "name": "ipython",
    "version": 3
   },
   "file_extension": ".py",
   "mimetype": "text/x-python",
   "name": "python",
   "nbconvert_exporter": "python",
   "pygments_lexer": "ipython3",
   "version": "3.9.6"
  }
 },
 "nbformat": 4,
 "nbformat_minor": 4
}
